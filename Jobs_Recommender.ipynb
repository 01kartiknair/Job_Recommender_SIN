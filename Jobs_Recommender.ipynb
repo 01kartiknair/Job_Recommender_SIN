{
  "nbformat": 4,
  "nbformat_minor": 0,
  "metadata": {
    "kernelspec": {
      "display_name": "Python 3",
      "language": "python",
      "name": "python3"
    },
    "language_info": {
      "codemirror_mode": {
        "name": "ipython",
        "version": 3
      },
      "file_extension": ".py",
      "mimetype": "text/x-python",
      "name": "python",
      "nbconvert_exporter": "python",
      "pygments_lexer": "ipython3",
      "version": "3.7.1"
    },
    "colab": {
      "name": "Jobs Recommender.ipynb",
      "provenance": [],
      "collapsed_sections": [
        "ympJAVJhs4E3",
        "pJrWESARs4E4",
        "uGuQKft6s4E6"
      ],
      "include_colab_link": true
    }
  },
  "cells": [
    {
      "cell_type": "markdown",
      "metadata": {
        "id": "view-in-github",
        "colab_type": "text"
      },
      "source": [
        "<a href=\"https://colab.research.google.com/github/01kartiknair/Job_Recommender_SIN/blob/main/Jobs_Recommender.ipynb\" target=\"_parent\"><img src=\"https://colab.research.google.com/assets/colab-badge.svg\" alt=\"Open In Colab\"/></a>"
      ]
    },
    {
      "cell_type": "code",
      "metadata": {
        "id": "8fTngqdLs4ED"
      },
      "source": [
        "#Libraries\n",
        "#Helpers\n",
        "\n",
        "#EDA initial\n",
        "#Preprocessing\n",
        "#Eda Final\n",
        "#Second Preprocessing\n",
        "\n",
        "#Preprocessing Pipeline\n",
        "#Model Core Pipeline\n",
        "#Model Output Pipeline\n",
        "\n",
        "#Testing\n"
      ],
      "execution_count": null,
      "outputs": []
    },
    {
      "cell_type": "markdown",
      "metadata": {
        "id": "2Yz6aHyBs4ER"
      },
      "source": [
        "## Helpers"
      ]
    },
    {
      "cell_type": "code",
      "metadata": {
        "id": "O5rPE_1es4EU"
      },
      "source": [
        "\n",
        "def preprocessor(text):\n",
        "    text = text.replace('\\\\r', '').replace('&nbsp', '').replace('\\n', '')\n",
        "    text = re.sub('<[^>]*>', '', text)\n",
        "    emoticons = re.findall('(?::|;|=)(?:-)?(?:\\)|\\(|D|P)', text)\n",
        "    text = re.sub('[\\W]+', ' ', text.lower()) +\\\n",
        "        ' '.join(emoticons).replace('-', '')\n",
        "    return text"
      ],
      "execution_count": null,
      "outputs": []
    },
    {
      "cell_type": "code",
      "metadata": {
        "id": "bXbS4ncrs4EX"
      },
      "source": [
        "\n",
        "def coordinates(zipcode):\n",
        "    zipcode = search.by_zipcode(zipcode)\n",
        "    community = zipcode.post_office_city\n",
        "    return community, \"{},{}\".format(zipcode.lat, zipcode.lng)\n",
        "\n",
        "def creating_coordinates(df, column):\n",
        "    df[\"Community\"] = \"\"\n",
        "    df[\"Coordinates\"] = \"None, None\"\n",
        "    for zipcode in df[column].unique():\n",
        "        community, coordinate = coordinates(zipcode)\n",
        "        df.loc[df[column] == zipcode, \"Coordinates\"] =  str(coordinate)\n",
        "        df.loc[df[column] == zipcode, \"Community\"] =  community\n",
        "    return df"
      ],
      "execution_count": null,
      "outputs": []
    },
    {
      "cell_type": "code",
      "metadata": {
        "id": "gC-VKKiCs4EZ"
      },
      "source": [
        "def user_exist(user):\n",
        "    if len(users.loc[users['UserID'] == user]) == 0:\n",
        "        return False\n",
        "    return True\n",
        "\n",
        "def has_coordinates(user):\n",
        "    c = users.loc[users['UserID'] == user, \"Coordinates\"] \n",
        "\n",
        "    if (len(c) == 0) or (c.iloc[0].split(',')[0]) == 'None':\n",
        "        return False\n",
        "    return True\n",
        "    \n"
      ],
      "execution_count": null,
      "outputs": []
    },
    {
      "cell_type": "code",
      "metadata": {
        "id": "NchG4lHAs4Ea"
      },
      "source": [
        "def user_profile(user_id):\n",
        "    user_profile = np.array(users.loc[users['UserID'] == user_id, ['DegreeType', 'Major']])[0]\n",
        "    historical_apps = user_history.loc[user_history.UserID == user_id, 'JobTitle']\n",
        "    user_profile = \"\"\"\n",
        "    Degree Type: {}\n",
        "    Major: {}\n",
        "    \"\"\".format(user_profile[0], user_profile[1])\n",
        "\n",
        "    return user_profile\n",
        "\n",
        "def historical_application(user_id):\n",
        "    historical_apps = apps.loc[apps.UserID == user_id]['JobID']\n",
        "    content = list()\n",
        "    for application in historical_apps:\n",
        "        temp = jobs.loc[jobs.JobID == application, ['Title', 'Description', 'Requirements']]\n",
        "        if len(temp) != 0:\n",
        "            content += [temp.Title.values + \". \" + temp.Description.values + \". \" + temp.Requirements.values]\n",
        "    return content\n"
      ],
      "execution_count": null,
      "outputs": []
    },
    {
      "cell_type": "code",
      "metadata": {
        "id": "-5afq_Gzs4Ec"
      },
      "source": [
        "class EpochLogger(CallbackAny2Vec):\n",
        "    '''Callback to log information about training'''\n",
        "\n",
        "    def __init__(self):\n",
        "        self.epoch = 0\n",
        "\n",
        "    def on_epoch_begin(self, model):\n",
        "        print(\"Epoch #{} start\".format(self.epoch))\n",
        "        self.epoch += 1\n",
        "        "
      ],
      "execution_count": null,
      "outputs": []
    },
    {
      "cell_type": "markdown",
      "metadata": {
        "id": "gyc1uksUs4Ed"
      },
      "source": [
        "### Libraries"
      ]
    },
    {
      "cell_type": "code",
      "metadata": {
        "colab": {
          "base_uri": "https://localhost:8080/"
        },
        "id": "pmtaglilxVLh",
        "outputId": "504caf28-1d01-49f4-bf87-77f4b6a2cb21"
      },
      "source": [
        "!pip install uszipcode"
      ],
      "execution_count": null,
      "outputs": [
        {
          "output_type": "stream",
          "name": "stdout",
          "text": [
            "Collecting uszipcode\n",
            "  Downloading uszipcode-0.2.6-py2.py3-none-any.whl (454 kB)\n",
            "\u001b[?25l\r\u001b[K     |▊                               | 10 kB 27.2 MB/s eta 0:00:01\r\u001b[K     |█▍                              | 20 kB 27.2 MB/s eta 0:00:01\r\u001b[K     |██▏                             | 30 kB 18.4 MB/s eta 0:00:01\r\u001b[K     |██▉                             | 40 kB 15.2 MB/s eta 0:00:01\r\u001b[K     |███▋                            | 51 kB 5.5 MB/s eta 0:00:01\r\u001b[K     |████▎                           | 61 kB 6.0 MB/s eta 0:00:01\r\u001b[K     |█████                           | 71 kB 6.4 MB/s eta 0:00:01\r\u001b[K     |█████▊                          | 81 kB 6.1 MB/s eta 0:00:01\r\u001b[K     |██████▌                         | 92 kB 6.0 MB/s eta 0:00:01\r\u001b[K     |███████▏                        | 102 kB 6.7 MB/s eta 0:00:01\r\u001b[K     |████████                        | 112 kB 6.7 MB/s eta 0:00:01\r\u001b[K     |████████▋                       | 122 kB 6.7 MB/s eta 0:00:01\r\u001b[K     |█████████▍                      | 133 kB 6.7 MB/s eta 0:00:01\r\u001b[K     |██████████                      | 143 kB 6.7 MB/s eta 0:00:01\r\u001b[K     |██████████▉                     | 153 kB 6.7 MB/s eta 0:00:01\r\u001b[K     |███████████▌                    | 163 kB 6.7 MB/s eta 0:00:01\r\u001b[K     |████████████▎                   | 174 kB 6.7 MB/s eta 0:00:01\r\u001b[K     |█████████████                   | 184 kB 6.7 MB/s eta 0:00:01\r\u001b[K     |█████████████▊                  | 194 kB 6.7 MB/s eta 0:00:01\r\u001b[K     |██████████████▍                 | 204 kB 6.7 MB/s eta 0:00:01\r\u001b[K     |███████████████▏                | 215 kB 6.7 MB/s eta 0:00:01\r\u001b[K     |███████████████▉                | 225 kB 6.7 MB/s eta 0:00:01\r\u001b[K     |████████████████▋               | 235 kB 6.7 MB/s eta 0:00:01\r\u001b[K     |█████████████████▎              | 245 kB 6.7 MB/s eta 0:00:01\r\u001b[K     |██████████████████              | 256 kB 6.7 MB/s eta 0:00:01\r\u001b[K     |██████████████████▊             | 266 kB 6.7 MB/s eta 0:00:01\r\u001b[K     |███████████████████▌            | 276 kB 6.7 MB/s eta 0:00:01\r\u001b[K     |████████████████████▏           | 286 kB 6.7 MB/s eta 0:00:01\r\u001b[K     |████████████████████▉           | 296 kB 6.7 MB/s eta 0:00:01\r\u001b[K     |█████████████████████▋          | 307 kB 6.7 MB/s eta 0:00:01\r\u001b[K     |██████████████████████▎         | 317 kB 6.7 MB/s eta 0:00:01\r\u001b[K     |███████████████████████         | 327 kB 6.7 MB/s eta 0:00:01\r\u001b[K     |███████████████████████▊        | 337 kB 6.7 MB/s eta 0:00:01\r\u001b[K     |████████████████████████▌       | 348 kB 6.7 MB/s eta 0:00:01\r\u001b[K     |█████████████████████████▏      | 358 kB 6.7 MB/s eta 0:00:01\r\u001b[K     |██████████████████████████      | 368 kB 6.7 MB/s eta 0:00:01\r\u001b[K     |██████████████████████████▋     | 378 kB 6.7 MB/s eta 0:00:01\r\u001b[K     |███████████████████████████▍    | 389 kB 6.7 MB/s eta 0:00:01\r\u001b[K     |████████████████████████████    | 399 kB 6.7 MB/s eta 0:00:01\r\u001b[K     |████████████████████████████▉   | 409 kB 6.7 MB/s eta 0:00:01\r\u001b[K     |█████████████████████████████▌  | 419 kB 6.7 MB/s eta 0:00:01\r\u001b[K     |██████████████████████████████▎ | 430 kB 6.7 MB/s eta 0:00:01\r\u001b[K     |███████████████████████████████ | 440 kB 6.7 MB/s eta 0:00:01\r\u001b[K     |███████████████████████████████▊| 450 kB 6.7 MB/s eta 0:00:01\r\u001b[K     |████████████████████████████████| 454 kB 6.7 MB/s \n",
            "\u001b[?25hRequirement already satisfied: requests in /usr/local/lib/python3.7/dist-packages (from uszipcode) (2.23.0)\n",
            "Collecting pathlib-mate\n",
            "  Downloading pathlib_mate-1.0.1-py2.py3-none-any.whl (78 kB)\n",
            "\u001b[?25l\r\u001b[K     |████▏                           | 10 kB 33.4 MB/s eta 0:00:01\r\u001b[K     |████████▎                       | 20 kB 40.9 MB/s eta 0:00:01\r\u001b[K     |████████████▌                   | 30 kB 49.7 MB/s eta 0:00:01\r\u001b[K     |████████████████▋               | 40 kB 55.5 MB/s eta 0:00:01\r\u001b[K     |████████████████████▉           | 51 kB 57.5 MB/s eta 0:00:01\r\u001b[K     |█████████████████████████       | 61 kB 62.2 MB/s eta 0:00:01\r\u001b[K     |█████████████████████████████▏  | 71 kB 63.5 MB/s eta 0:00:01\r\u001b[K     |████████████████████████████████| 78 kB 8.1 MB/s \n",
            "\u001b[?25hRequirement already satisfied: SQLAlchemy in /usr/local/lib/python3.7/dist-packages (from uszipcode) (1.4.25)\n",
            "Requirement already satisfied: attrs in /usr/local/lib/python3.7/dist-packages (from uszipcode) (21.2.0)\n",
            "Collecting autopep8\n",
            "  Downloading autopep8-1.5.7-py2.py3-none-any.whl (45 kB)\n",
            "\u001b[K     |████████████████████████████████| 45 kB 3.3 MB/s \n",
            "\u001b[?25hRequirement already satisfied: atomicwrites in /usr/local/lib/python3.7/dist-packages (from pathlib-mate->uszipcode) (1.4.0)\n",
            "Requirement already satisfied: six in /usr/local/lib/python3.7/dist-packages (from pathlib-mate->uszipcode) (1.15.0)\n",
            "Collecting pycodestyle>=2.7.0\n",
            "  Downloading pycodestyle-2.8.0-py2.py3-none-any.whl (42 kB)\n",
            "\u001b[K     |████████████████████████████████| 42 kB 983 kB/s \n",
            "\u001b[?25hRequirement already satisfied: toml in /usr/local/lib/python3.7/dist-packages (from autopep8->pathlib-mate->uszipcode) (0.10.2)\n",
            "Requirement already satisfied: chardet<4,>=3.0.2 in /usr/local/lib/python3.7/dist-packages (from requests->uszipcode) (3.0.4)\n",
            "Requirement already satisfied: idna<3,>=2.5 in /usr/local/lib/python3.7/dist-packages (from requests->uszipcode) (2.10)\n",
            "Requirement already satisfied: certifi>=2017.4.17 in /usr/local/lib/python3.7/dist-packages (from requests->uszipcode) (2021.5.30)\n",
            "Requirement already satisfied: urllib3!=1.25.0,!=1.25.1,<1.26,>=1.21.1 in /usr/local/lib/python3.7/dist-packages (from requests->uszipcode) (1.24.3)\n",
            "Requirement already satisfied: greenlet!=0.4.17 in /usr/local/lib/python3.7/dist-packages (from SQLAlchemy->uszipcode) (1.1.2)\n",
            "Requirement already satisfied: importlib-metadata in /usr/local/lib/python3.7/dist-packages (from SQLAlchemy->uszipcode) (4.8.1)\n",
            "Requirement already satisfied: typing-extensions>=3.6.4 in /usr/local/lib/python3.7/dist-packages (from importlib-metadata->SQLAlchemy->uszipcode) (3.7.4.3)\n",
            "Requirement already satisfied: zipp>=0.5 in /usr/local/lib/python3.7/dist-packages (from importlib-metadata->SQLAlchemy->uszipcode) (3.6.0)\n",
            "Installing collected packages: pycodestyle, autopep8, pathlib-mate, uszipcode\n",
            "Successfully installed autopep8-1.5.7 pathlib-mate-1.0.1 pycodestyle-2.8.0 uszipcode-0.2.6\n"
          ]
        }
      ]
    },
    {
      "cell_type": "code",
      "metadata": {
        "pycharm": {
          "is_executing": false
        },
        "id": "0lHlFTX-s4Ee"
      },
      "source": [
        "%matplotlib inline\n",
        "import matplotlib.pyplot as plt\n",
        "import seaborn as sns\n",
        "import pandas as pd\n",
        "import numpy as np\n",
        "import ast \n",
        "from scipy import stats\n",
        "from ast import literal_eval\n",
        "from sklearn.feature_extraction.text import TfidfVectorizer, CountVectorizer\n",
        "from sklearn.metrics.pairwise import linear_kernel, cosine_similarity\n",
        "# from nltk.stem.snowball import SnowballStemmer\n",
        "# from nltk.stem.wordnet import WordNetLemmatizer\n",
        "# from nltk.corpus import wordnet\n",
        "# from surprise import Reader, Dataset, SVD, evaluate\n",
        "from gensim.models import Doc2Vec\n",
        "import gensim.models.doc2vec\n",
        "from collections import OrderedDict\n",
        "import multiprocessing\n",
        "\n",
        "from gensim.models.doc2vec import Doc2Vec, TaggedDocument\n",
        "from gensim.utils import simple_preprocess\n",
        "from gensim.test.utils import get_tmpfile\n",
        "from gensim.models.callbacks import CallbackAny2Vec\n",
        "\n",
        "import pickle\n",
        "\n",
        "from uszipcode import SearchEngine\n",
        "from  geopy.distance import distance\n",
        "\n",
        "import gc\n",
        "import re\n",
        "\n",
        "import warnings; warnings.simplefilter('ignore')"
      ],
      "execution_count": null,
      "outputs": []
    },
    {
      "cell_type": "markdown",
      "metadata": {
        "id": "mCUNY7Pus4Ef"
      },
      "source": [
        "#### Checking Cores"
      ]
    },
    {
      "cell_type": "code",
      "metadata": {
        "id": "sqPakOPMs4Eg"
      },
      "source": [
        "assert gensim.models.doc2vec.FAST_VERSION > -1, \"SLOW VERSION\""
      ],
      "execution_count": null,
      "outputs": []
    },
    {
      "cell_type": "code",
      "metadata": {
        "id": "Y4ZonVcGs4Ej"
      },
      "source": [
        "MAX_DISTANCE = 15\n",
        "\n",
        "#!dir .\\Data\\*.tsv"
      ],
      "execution_count": null,
      "outputs": []
    },
    {
      "cell_type": "markdown",
      "metadata": {
        "id": "4Y0BqNhGs4Ej"
      },
      "source": [
        "### Reading Data"
      ]
    },
    {
      "cell_type": "code",
      "metadata": {
        "id": "mA3xBczduSgS",
        "colab": {
          "base_uri": "https://localhost:8080/"
        },
        "outputId": "646ea972-2355-4aff-bb14-4a0eda955b1a"
      },
      "source": [
        "from google.colab import drive\n",
        "drive.mount('/content/drive')"
      ],
      "execution_count": null,
      "outputs": [
        {
          "output_type": "stream",
          "name": "stdout",
          "text": [
            "Mounted at /content/drive\n"
          ]
        }
      ]
    },
    {
      "cell_type": "code",
      "metadata": {
        "id": "GuIKqYP5s4Ek",
        "colab": {
          "base_uri": "https://localhost:8080/"
        },
        "outputId": "e1b88088-901b-46a0-dcb9-34de6f1d771c"
      },
      "source": [
        "folder = 'Data'\n",
        "\n",
        "apps = pd.read_csv('./'+folder+'/apps.tsv', delimiter='\\t',encoding='utf-8')\n",
        "user_history = pd.read_csv('./'+folder+'/user_history.tsv', delimiter='\\t',encoding='utf-8')\n",
        "jobs = pd.read_csv('./'+folder+'/jobs.tsv', delimiter='\\t',encoding='utf-8', error_bad_lines=False)\n",
        "users = pd.read_csv('./'+folder+'/users.tsv' ,delimiter='\\t',encoding='utf-8')\n",
        "test_users = pd.read_csv('./'+folder+'/test_users.tsv', delimiter='\\t',encoding='utf-8')\n"
      ],
      "execution_count": null,
      "outputs": [
        {
          "output_type": "stream",
          "name": "stderr",
          "text": [
            "b'Skipping line 122433: expected 11 fields, saw 12\\n'\n",
            "b'Skipping line 602576: expected 11 fields, saw 12\\n'\n",
            "b'Skipping line 990950: expected 11 fields, saw 12\\n'\n"
          ]
        }
      ]
    },
    {
      "cell_type": "markdown",
      "metadata": {
        "id": "jP_GCbMks4Em"
      },
      "source": [
        "### EDA 1"
      ]
    },
    {
      "cell_type": "code",
      "metadata": {
        "id": "6mPZKBS2s4Em",
        "colab": {
          "base_uri": "https://localhost:8080/",
          "height": 206
        },
        "outputId": "ffa26267-e80d-4153-c37a-c8f82768b474"
      },
      "source": [
        "apps.head()\n"
      ],
      "execution_count": null,
      "outputs": [
        {
          "output_type": "execute_result",
          "data": {
            "text/html": [
              "<div>\n",
              "<style scoped>\n",
              "    .dataframe tbody tr th:only-of-type {\n",
              "        vertical-align: middle;\n",
              "    }\n",
              "\n",
              "    .dataframe tbody tr th {\n",
              "        vertical-align: top;\n",
              "    }\n",
              "\n",
              "    .dataframe thead th {\n",
              "        text-align: right;\n",
              "    }\n",
              "</style>\n",
              "<table border=\"1\" class=\"dataframe\">\n",
              "  <thead>\n",
              "    <tr style=\"text-align: right;\">\n",
              "      <th></th>\n",
              "      <th>UserID</th>\n",
              "      <th>WindowID</th>\n",
              "      <th>Split</th>\n",
              "      <th>ApplicationDate</th>\n",
              "      <th>JobID</th>\n",
              "    </tr>\n",
              "  </thead>\n",
              "  <tbody>\n",
              "    <tr>\n",
              "      <th>0</th>\n",
              "      <td>47</td>\n",
              "      <td>1</td>\n",
              "      <td>Train</td>\n",
              "      <td>2012-04-04 15:56:23.537</td>\n",
              "      <td>169528</td>\n",
              "    </tr>\n",
              "    <tr>\n",
              "      <th>1</th>\n",
              "      <td>47</td>\n",
              "      <td>1</td>\n",
              "      <td>Train</td>\n",
              "      <td>2012-04-06 01:03:00.003</td>\n",
              "      <td>284009</td>\n",
              "    </tr>\n",
              "    <tr>\n",
              "      <th>2</th>\n",
              "      <td>47</td>\n",
              "      <td>1</td>\n",
              "      <td>Train</td>\n",
              "      <td>2012-04-05 02:40:27.753</td>\n",
              "      <td>2121</td>\n",
              "    </tr>\n",
              "    <tr>\n",
              "      <th>3</th>\n",
              "      <td>47</td>\n",
              "      <td>1</td>\n",
              "      <td>Train</td>\n",
              "      <td>2012-04-05 02:37:02.673</td>\n",
              "      <td>848187</td>\n",
              "    </tr>\n",
              "    <tr>\n",
              "      <th>4</th>\n",
              "      <td>47</td>\n",
              "      <td>1</td>\n",
              "      <td>Train</td>\n",
              "      <td>2012-04-05 22:44:06.653</td>\n",
              "      <td>733748</td>\n",
              "    </tr>\n",
              "  </tbody>\n",
              "</table>\n",
              "</div>"
            ],
            "text/plain": [
              "   UserID  WindowID  Split          ApplicationDate   JobID\n",
              "0      47         1  Train  2012-04-04 15:56:23.537  169528\n",
              "1      47         1  Train  2012-04-06 01:03:00.003  284009\n",
              "2      47         1  Train  2012-04-05 02:40:27.753    2121\n",
              "3      47         1  Train  2012-04-05 02:37:02.673  848187\n",
              "4      47         1  Train  2012-04-05 22:44:06.653  733748"
            ]
          },
          "metadata": {},
          "execution_count": 16
        }
      ]
    },
    {
      "cell_type": "code",
      "metadata": {
        "scrolled": true,
        "id": "FHtToo7ws4En",
        "colab": {
          "base_uri": "https://localhost:8080/",
          "height": 206
        },
        "outputId": "5840e965-661c-45a3-ac76-119241956f64"
      },
      "source": [
        "user_history.head()"
      ],
      "execution_count": null,
      "outputs": [
        {
          "output_type": "execute_result",
          "data": {
            "text/html": [
              "<div>\n",
              "<style scoped>\n",
              "    .dataframe tbody tr th:only-of-type {\n",
              "        vertical-align: middle;\n",
              "    }\n",
              "\n",
              "    .dataframe tbody tr th {\n",
              "        vertical-align: top;\n",
              "    }\n",
              "\n",
              "    .dataframe thead th {\n",
              "        text-align: right;\n",
              "    }\n",
              "</style>\n",
              "<table border=\"1\" class=\"dataframe\">\n",
              "  <thead>\n",
              "    <tr style=\"text-align: right;\">\n",
              "      <th></th>\n",
              "      <th>UserID</th>\n",
              "      <th>WindowID</th>\n",
              "      <th>Split</th>\n",
              "      <th>Sequence</th>\n",
              "      <th>JobTitle</th>\n",
              "    </tr>\n",
              "  </thead>\n",
              "  <tbody>\n",
              "    <tr>\n",
              "      <th>0</th>\n",
              "      <td>47</td>\n",
              "      <td>1</td>\n",
              "      <td>Train</td>\n",
              "      <td>1</td>\n",
              "      <td>National Space Communication Programs-Special ...</td>\n",
              "    </tr>\n",
              "    <tr>\n",
              "      <th>1</th>\n",
              "      <td>47</td>\n",
              "      <td>1</td>\n",
              "      <td>Train</td>\n",
              "      <td>2</td>\n",
              "      <td>Detention Officer</td>\n",
              "    </tr>\n",
              "    <tr>\n",
              "      <th>2</th>\n",
              "      <td>47</td>\n",
              "      <td>1</td>\n",
              "      <td>Train</td>\n",
              "      <td>3</td>\n",
              "      <td>Passenger Screener, TSA</td>\n",
              "    </tr>\n",
              "    <tr>\n",
              "      <th>3</th>\n",
              "      <td>72</td>\n",
              "      <td>1</td>\n",
              "      <td>Train</td>\n",
              "      <td>1</td>\n",
              "      <td>Lecturer, Department of Anthropology</td>\n",
              "    </tr>\n",
              "    <tr>\n",
              "      <th>4</th>\n",
              "      <td>72</td>\n",
              "      <td>1</td>\n",
              "      <td>Train</td>\n",
              "      <td>2</td>\n",
              "      <td>Student Assistant</td>\n",
              "    </tr>\n",
              "  </tbody>\n",
              "</table>\n",
              "</div>"
            ],
            "text/plain": [
              "   UserID  ...                                           JobTitle\n",
              "0      47  ...  National Space Communication Programs-Special ...\n",
              "1      47  ...                                  Detention Officer\n",
              "2      47  ...                            Passenger Screener, TSA\n",
              "3      72  ...               Lecturer, Department of Anthropology\n",
              "4      72  ...                                  Student Assistant\n",
              "\n",
              "[5 rows x 5 columns]"
            ]
          },
          "metadata": {},
          "execution_count": 17
        }
      ]
    },
    {
      "cell_type": "code",
      "metadata": {
        "id": "HkBAJgWNs4Eo",
        "colab": {
          "base_uri": "https://localhost:8080/",
          "height": 293
        },
        "outputId": "e26d30d5-63a3-4f69-a9dd-291940a9ac05"
      },
      "source": [
        "jobs.head()"
      ],
      "execution_count": null,
      "outputs": [
        {
          "output_type": "execute_result",
          "data": {
            "text/html": [
              "<div>\n",
              "<style scoped>\n",
              "    .dataframe tbody tr th:only-of-type {\n",
              "        vertical-align: middle;\n",
              "    }\n",
              "\n",
              "    .dataframe tbody tr th {\n",
              "        vertical-align: top;\n",
              "    }\n",
              "\n",
              "    .dataframe thead th {\n",
              "        text-align: right;\n",
              "    }\n",
              "</style>\n",
              "<table border=\"1\" class=\"dataframe\">\n",
              "  <thead>\n",
              "    <tr style=\"text-align: right;\">\n",
              "      <th></th>\n",
              "      <th>JobID</th>\n",
              "      <th>WindowID</th>\n",
              "      <th>Title</th>\n",
              "      <th>Description</th>\n",
              "      <th>Requirements</th>\n",
              "      <th>City</th>\n",
              "      <th>State</th>\n",
              "      <th>Country</th>\n",
              "      <th>Zip5</th>\n",
              "      <th>StartDate</th>\n",
              "      <th>EndDate</th>\n",
              "    </tr>\n",
              "  </thead>\n",
              "  <tbody>\n",
              "    <tr>\n",
              "      <th>0</th>\n",
              "      <td>1</td>\n",
              "      <td>1</td>\n",
              "      <td>Security Engineer/Technical Lead</td>\n",
              "      <td>&lt;p&gt;Security Clearance Required:&amp;nbsp; Top Secr...</td>\n",
              "      <td>&lt;p&gt;SKILL SET&lt;/p&gt;\\r&lt;p&gt;&amp;nbsp;&lt;/p&gt;\\r&lt;p&gt;Network Se...</td>\n",
              "      <td>Washington</td>\n",
              "      <td>DC</td>\n",
              "      <td>US</td>\n",
              "      <td>20531</td>\n",
              "      <td>2012-03-07 13:17:01.643</td>\n",
              "      <td>2012-04-06 23:59:59</td>\n",
              "    </tr>\n",
              "    <tr>\n",
              "      <th>1</th>\n",
              "      <td>4</td>\n",
              "      <td>1</td>\n",
              "      <td>SAP Business Analyst / WM</td>\n",
              "      <td>&lt;strong&gt;NO Corp. to Corp resumes&amp;nbsp;are bein...</td>\n",
              "      <td>&lt;p&gt;&lt;b&gt;WHAT YOU NEED: &lt;/b&gt;&lt;/p&gt;\\r&lt;p&gt;Four year co...</td>\n",
              "      <td>Charlotte</td>\n",
              "      <td>NC</td>\n",
              "      <td>US</td>\n",
              "      <td>28217</td>\n",
              "      <td>2012-03-21 02:03:44.137</td>\n",
              "      <td>2012-04-20 23:59:59</td>\n",
              "    </tr>\n",
              "    <tr>\n",
              "      <th>2</th>\n",
              "      <td>7</td>\n",
              "      <td>1</td>\n",
              "      <td>P/T HUMAN RESOURCES ASSISTANT</td>\n",
              "      <td>&lt;b&gt;    &lt;b&gt; P/T HUMAN RESOURCES ASSISTANT&lt;/b&gt; &lt;...</td>\n",
              "      <td>Please refer to the Job Description to view th...</td>\n",
              "      <td>Winter Park</td>\n",
              "      <td>FL</td>\n",
              "      <td>US</td>\n",
              "      <td>32792</td>\n",
              "      <td>2012-03-02 16:36:55.447</td>\n",
              "      <td>2012-04-01 23:59:59</td>\n",
              "    </tr>\n",
              "    <tr>\n",
              "      <th>3</th>\n",
              "      <td>8</td>\n",
              "      <td>1</td>\n",
              "      <td>Route Delivery Drivers</td>\n",
              "      <td>CITY BEVERAGES Come to work for the best in th...</td>\n",
              "      <td>Please refer to the Job Description to view th...</td>\n",
              "      <td>Orlando</td>\n",
              "      <td>FL</td>\n",
              "      <td>US</td>\n",
              "      <td>NaN</td>\n",
              "      <td>2012-03-03 09:01:10.077</td>\n",
              "      <td>2012-04-02 23:59:59</td>\n",
              "    </tr>\n",
              "    <tr>\n",
              "      <th>4</th>\n",
              "      <td>9</td>\n",
              "      <td>1</td>\n",
              "      <td>Housekeeping</td>\n",
              "      <td>I make  sure every part of their day is magica...</td>\n",
              "      <td>Please refer to the Job Description to view th...</td>\n",
              "      <td>Orlando</td>\n",
              "      <td>FL</td>\n",
              "      <td>US</td>\n",
              "      <td>NaN</td>\n",
              "      <td>2012-03-03 09:01:11.88</td>\n",
              "      <td>2012-04-02 23:59:59</td>\n",
              "    </tr>\n",
              "  </tbody>\n",
              "</table>\n",
              "</div>"
            ],
            "text/plain": [
              "   JobID  WindowID  ...                StartDate              EndDate\n",
              "0      1         1  ...  2012-03-07 13:17:01.643  2012-04-06 23:59:59\n",
              "1      4         1  ...  2012-03-21 02:03:44.137  2012-04-20 23:59:59\n",
              "2      7         1  ...  2012-03-02 16:36:55.447  2012-04-01 23:59:59\n",
              "3      8         1  ...  2012-03-03 09:01:10.077  2012-04-02 23:59:59\n",
              "4      9         1  ...   2012-03-03 09:01:11.88  2012-04-02 23:59:59\n",
              "\n",
              "[5 rows x 11 columns]"
            ]
          },
          "metadata": {},
          "execution_count": 18
        }
      ]
    },
    {
      "cell_type": "code",
      "metadata": {
        "id": "Gd5G8ljSs4Ep",
        "colab": {
          "base_uri": "https://localhost:8080/",
          "height": 313
        },
        "outputId": "f9cdaf6e-b161-4614-e2d0-adae6c8d92fe"
      },
      "source": [
        "users.head()"
      ],
      "execution_count": null,
      "outputs": [
        {
          "output_type": "execute_result",
          "data": {
            "text/html": [
              "<div>\n",
              "<style scoped>\n",
              "    .dataframe tbody tr th:only-of-type {\n",
              "        vertical-align: middle;\n",
              "    }\n",
              "\n",
              "    .dataframe tbody tr th {\n",
              "        vertical-align: top;\n",
              "    }\n",
              "\n",
              "    .dataframe thead th {\n",
              "        text-align: right;\n",
              "    }\n",
              "</style>\n",
              "<table border=\"1\" class=\"dataframe\">\n",
              "  <thead>\n",
              "    <tr style=\"text-align: right;\">\n",
              "      <th></th>\n",
              "      <th>UserID</th>\n",
              "      <th>WindowID</th>\n",
              "      <th>Split</th>\n",
              "      <th>City</th>\n",
              "      <th>State</th>\n",
              "      <th>Country</th>\n",
              "      <th>ZipCode</th>\n",
              "      <th>DegreeType</th>\n",
              "      <th>Major</th>\n",
              "      <th>GraduationDate</th>\n",
              "      <th>WorkHistoryCount</th>\n",
              "      <th>TotalYearsExperience</th>\n",
              "      <th>CurrentlyEmployed</th>\n",
              "      <th>ManagedOthers</th>\n",
              "      <th>ManagedHowMany</th>\n",
              "    </tr>\n",
              "  </thead>\n",
              "  <tbody>\n",
              "    <tr>\n",
              "      <th>0</th>\n",
              "      <td>47</td>\n",
              "      <td>1</td>\n",
              "      <td>Train</td>\n",
              "      <td>Paramount</td>\n",
              "      <td>CA</td>\n",
              "      <td>US</td>\n",
              "      <td>90723</td>\n",
              "      <td>High School</td>\n",
              "      <td>NaN</td>\n",
              "      <td>1999-06-01 00:00:00</td>\n",
              "      <td>3</td>\n",
              "      <td>10.0</td>\n",
              "      <td>Yes</td>\n",
              "      <td>No</td>\n",
              "      <td>0</td>\n",
              "    </tr>\n",
              "    <tr>\n",
              "      <th>1</th>\n",
              "      <td>72</td>\n",
              "      <td>1</td>\n",
              "      <td>Train</td>\n",
              "      <td>La Mesa</td>\n",
              "      <td>CA</td>\n",
              "      <td>US</td>\n",
              "      <td>91941</td>\n",
              "      <td>Master's</td>\n",
              "      <td>Anthropology</td>\n",
              "      <td>2011-01-01 00:00:00</td>\n",
              "      <td>10</td>\n",
              "      <td>8.0</td>\n",
              "      <td>Yes</td>\n",
              "      <td>No</td>\n",
              "      <td>0</td>\n",
              "    </tr>\n",
              "    <tr>\n",
              "      <th>2</th>\n",
              "      <td>80</td>\n",
              "      <td>1</td>\n",
              "      <td>Train</td>\n",
              "      <td>Williamstown</td>\n",
              "      <td>NJ</td>\n",
              "      <td>US</td>\n",
              "      <td>08094</td>\n",
              "      <td>High School</td>\n",
              "      <td>Not Applicable</td>\n",
              "      <td>1985-06-01 00:00:00</td>\n",
              "      <td>5</td>\n",
              "      <td>11.0</td>\n",
              "      <td>Yes</td>\n",
              "      <td>Yes</td>\n",
              "      <td>5</td>\n",
              "    </tr>\n",
              "    <tr>\n",
              "      <th>3</th>\n",
              "      <td>98</td>\n",
              "      <td>1</td>\n",
              "      <td>Train</td>\n",
              "      <td>Astoria</td>\n",
              "      <td>NY</td>\n",
              "      <td>US</td>\n",
              "      <td>11105</td>\n",
              "      <td>Master's</td>\n",
              "      <td>Journalism</td>\n",
              "      <td>2007-05-01 00:00:00</td>\n",
              "      <td>3</td>\n",
              "      <td>3.0</td>\n",
              "      <td>Yes</td>\n",
              "      <td>No</td>\n",
              "      <td>0</td>\n",
              "    </tr>\n",
              "    <tr>\n",
              "      <th>4</th>\n",
              "      <td>123</td>\n",
              "      <td>1</td>\n",
              "      <td>Train</td>\n",
              "      <td>Baton Rouge</td>\n",
              "      <td>LA</td>\n",
              "      <td>US</td>\n",
              "      <td>70808</td>\n",
              "      <td>Bachelor's</td>\n",
              "      <td>Agricultural Business</td>\n",
              "      <td>2011-05-01 00:00:00</td>\n",
              "      <td>1</td>\n",
              "      <td>9.0</td>\n",
              "      <td>Yes</td>\n",
              "      <td>No</td>\n",
              "      <td>0</td>\n",
              "    </tr>\n",
              "  </tbody>\n",
              "</table>\n",
              "</div>"
            ],
            "text/plain": [
              "   UserID  WindowID  Split  ... CurrentlyEmployed ManagedOthers ManagedHowMany\n",
              "0      47         1  Train  ...               Yes            No              0\n",
              "1      72         1  Train  ...               Yes            No              0\n",
              "2      80         1  Train  ...               Yes           Yes              5\n",
              "3      98         1  Train  ...               Yes            No              0\n",
              "4     123         1  Train  ...               Yes            No              0\n",
              "\n",
              "[5 rows x 15 columns]"
            ]
          },
          "metadata": {},
          "execution_count": 19
        }
      ]
    },
    {
      "cell_type": "code",
      "metadata": {
        "id": "RiMlaE7Ms4Eq",
        "colab": {
          "base_uri": "https://localhost:8080/"
        },
        "outputId": "73030ae1-8b08-4daa-9754-53da452826c6"
      },
      "source": [
        "test_users.head()\n",
        "len(users)"
      ],
      "execution_count": null,
      "outputs": [
        {
          "output_type": "execute_result",
          "data": {
            "text/plain": [
              "389708"
            ]
          },
          "metadata": {},
          "execution_count": 20
        }
      ]
    },
    {
      "cell_type": "markdown",
      "metadata": {
        "id": "uwhhejuZs4Eq"
      },
      "source": [
        "### ETL Pipeline - Preprocessing"
      ]
    },
    {
      "cell_type": "markdown",
      "metadata": {
        "id": "niFzJM4Rs4Er"
      },
      "source": [
        "#### Subsetting & Sampling  NY"
      ]
    },
    {
      "cell_type": "code",
      "metadata": {
        "id": "kYU9cNq5s4Es",
        "colab": {
          "base_uri": "https://localhost:8080/"
        },
        "outputId": "a5d9c889-5a45-4c83-a228-ea539aaf481b"
      },
      "source": [
        "users = users.loc[users.State == 'NY']\n",
        "len(users)"
      ],
      "execution_count": null,
      "outputs": [
        {
          "output_type": "execute_result",
          "data": {
            "text/plain": [
              "20590"
            ]
          },
          "metadata": {},
          "execution_count": 21
        }
      ]
    },
    {
      "cell_type": "code",
      "metadata": {
        "id": "Upw9QGfAs4Es",
        "colab": {
          "base_uri": "https://localhost:8080/"
        },
        "outputId": "e1cfaf30-04f2-4612-de3a-64ef23223b86"
      },
      "source": [
        "users = users.sample(frac=0.2, replace=False, random_state=1)\n",
        "len(users)"
      ],
      "execution_count": null,
      "outputs": [
        {
          "output_type": "execute_result",
          "data": {
            "text/plain": [
              "4118"
            ]
          },
          "metadata": {},
          "execution_count": 22
        }
      ]
    },
    {
      "cell_type": "code",
      "metadata": {
        "id": "eCL7Pl3Ts4Et"
      },
      "source": [
        "jobs = jobs.loc[jobs.State == 'NY']\n",
        "all_jobs = jobs.copy()\n",
        "#jobs.to_csv(\"NYjobs.tsv\",  sep='\\t',encoding='utf-8')"
      ],
      "execution_count": null,
      "outputs": []
    },
    {
      "cell_type": "markdown",
      "metadata": {
        "id": "h9m_LrKEs4Eu"
      },
      "source": [
        "#### Subsetting jobs with zipcode for testing distance feature"
      ]
    },
    {
      "cell_type": "code",
      "metadata": {
        "id": "CKS1yJE6s4Eu"
      },
      "source": [
        "jobs.Zip5 = jobs.Zip5.fillna(0)\n",
        "jobs.Zip5 = jobs.Zip5.astype(int)\n",
        "jobs = jobs.loc[jobs['Zip5'] != 0]"
      ],
      "execution_count": null,
      "outputs": []
    },
    {
      "cell_type": "code",
      "metadata": {
        "id": "a6_q6i16s4Ev",
        "colab": {
          "base_uri": "https://localhost:8080/"
        },
        "outputId": "69bbce58-cf0d-49e5-8324-93ace4892d71"
      },
      "source": [
        "len(jobs)"
      ],
      "execution_count": null,
      "outputs": [
        {
          "output_type": "execute_result",
          "data": {
            "text/plain": [
              "33679"
            ]
          },
          "metadata": {},
          "execution_count": 25
        }
      ]
    },
    {
      "cell_type": "code",
      "metadata": {
        "id": "mkHlkWRqs4Ew",
        "colab": {
          "base_uri": "https://localhost:8080/"
        },
        "outputId": "c0ec4f81-be98-40a0-c800-919a557157a4"
      },
      "source": [
        "jobs = jobs.sample(frac=0.2, replace=False, random_state=1)\n",
        "len(jobs)"
      ],
      "execution_count": null,
      "outputs": [
        {
          "output_type": "execute_result",
          "data": {
            "text/plain": [
              "6736"
            ]
          },
          "metadata": {},
          "execution_count": 26
        }
      ]
    },
    {
      "cell_type": "markdown",
      "metadata": {
        "id": "8Rstxo0js4Ew"
      },
      "source": [
        "#### Clearning Memory"
      ]
    },
    {
      "cell_type": "code",
      "metadata": {
        "id": "82lz3mkzs4Ex",
        "colab": {
          "base_uri": "https://localhost:8080/"
        },
        "outputId": "e2f5e59d-aded-40f8-c53e-5534b559aa4f"
      },
      "source": [
        "gc.collect()"
      ],
      "execution_count": null,
      "outputs": [
        {
          "output_type": "execute_result",
          "data": {
            "text/plain": [
              "519"
            ]
          },
          "metadata": {},
          "execution_count": 27
        }
      ]
    },
    {
      "cell_type": "markdown",
      "metadata": {
        "id": "rQKgMwmAs4Ex"
      },
      "source": [
        "#### Creating jobs coordinates and Communities"
      ]
    },
    {
      "cell_type": "code",
      "metadata": {
        "id": "uhzwYR-ss4Ey",
        "colab": {
          "base_uri": "https://localhost:8080/"
        },
        "outputId": "b84a4f75-59cf-42e5-a261-8f53493e8fe0"
      },
      "source": [
        "search = SearchEngine(simple_zipcode=True)"
      ],
      "execution_count": null,
      "outputs": [
        {
          "output_type": "stream",
          "name": "stdout",
          "text": [
            "Start downloading data for simple zipcode database, total size 9MB ...\n",
            "  1 MB finished ...\n",
            "  2 MB finished ...\n",
            "  3 MB finished ...\n",
            "  4 MB finished ...\n",
            "  5 MB finished ...\n",
            "  6 MB finished ...\n",
            "  7 MB finished ...\n",
            "  8 MB finished ...\n",
            "  9 MB finished ...\n",
            "  10 MB finished ...\n",
            "  Complete!\n"
          ]
        }
      ]
    },
    {
      "cell_type": "code",
      "metadata": {
        "id": "rYksKpMus4Ez"
      },
      "source": [
        "\n",
        "search.by_zipcode(\"2e\").lat"
      ],
      "execution_count": null,
      "outputs": []
    },
    {
      "cell_type": "code",
      "metadata": {
        "id": "LVGdfuKys4E0",
        "colab": {
          "base_uri": "https://localhost:8080/"
        },
        "outputId": "e187ec7a-60d1-4ff3-c643-c0a6c8a8c836"
      },
      "source": [
        "%%timeit\n",
        "jobs[\"Community\"] = \"\"\n",
        "jobs[\"Coordinates\"] = \"\"\n",
        "for zipcode in jobs.Zip5.unique():\n",
        "    community, coordinate = coordinates(zipcode)\n",
        "    jobs.loc[jobs.Zip5 == zipcode, \"Coordinates\"] =  str(coordinate)\n",
        "    jobs.loc[jobs.Zip5 == zipcode, \"Community\"] =  community"
      ],
      "execution_count": null,
      "outputs": [
        {
          "output_type": "stream",
          "name": "stdout",
          "text": [
            "1 loop, best of 5: 1.56 s per loop\n"
          ]
        }
      ]
    },
    {
      "cell_type": "markdown",
      "metadata": {
        "id": "2Ihl0TJys4E0"
      },
      "source": [
        "#### Creating user coordinates"
      ]
    },
    {
      "cell_type": "code",
      "metadata": {
        "id": "3awEMR_-s4E1"
      },
      "source": [
        "users = creating_coordinates(users, 'ZipCode')"
      ],
      "execution_count": null,
      "outputs": []
    },
    {
      "cell_type": "markdown",
      "metadata": {
        "id": "pP9cLW1es4E1"
      },
      "source": [
        "#### Cleaning Description and Requirements"
      ]
    },
    {
      "cell_type": "code",
      "metadata": {
        "id": "CyvVRwTLs4E1"
      },
      "source": [
        "jobs['Description'] = jobs['Description'].astype(dtype='str').apply(preprocessor)"
      ],
      "execution_count": null,
      "outputs": []
    },
    {
      "cell_type": "code",
      "metadata": {
        "id": "cfuiMCQjs4E2"
      },
      "source": [
        "jobs['Requirements'] = jobs['Requirements'].astype(dtype='str').apply(preprocessor)"
      ],
      "execution_count": null,
      "outputs": []
    },
    {
      "cell_type": "markdown",
      "metadata": {
        "id": "EiYdFUhqs4E2"
      },
      "source": [
        "#### Making jobs profiles"
      ]
    },
    {
      "cell_type": "code",
      "metadata": {
        "id": "2oVdh79ts4E2"
      },
      "source": [
        "jobs['profile'] = jobs['Title'].astype(str)  +  '. ' + jobs['Requirements'].astype(str) +  '. ' + jobs['Description'].astype(str) "
      ],
      "execution_count": null,
      "outputs": []
    },
    {
      "cell_type": "markdown",
      "metadata": {
        "id": "aRTDtPF1s4E2"
      },
      "source": [
        "#### Making users profiles"
      ]
    },
    {
      "cell_type": "code",
      "metadata": {
        "id": "bECJYb0ps4E3",
        "colab": {
          "base_uri": "https://localhost:8080/"
        },
        "outputId": "cb090589-5676-4965-eedf-fb6753391a60"
      },
      "source": [
        "%%timeit\n",
        "\n",
        "users['profile'] =  (users['Major'].astype(str) +  \" \" ) + (users['DegreeType'].astype(str) + \" \")\n",
        "\n",
        "#Cleaning Garbage Words\n",
        "users['profile'] = users['profile'].str.replace('None.', ' ')\n",
        "users['profile'] = users['profile'].str.replace('Not Applicable', ' ')\n",
        "users['profile'] = users['profile'].str.replace('nan', ' ') \n"
      ],
      "execution_count": null,
      "outputs": [
        {
          "output_type": "stream",
          "name": "stdout",
          "text": [
            "100 loops, best of 5: 13.6 ms per loop\n"
          ]
        }
      ]
    },
    {
      "cell_type": "markdown",
      "metadata": {
        "id": "auJl1Zbls4E3"
      },
      "source": [
        "### EDA 2"
      ]
    },
    {
      "cell_type": "markdown",
      "metadata": {
        "id": "ympJAVJhs4E3"
      },
      "source": [
        "#### Jobs by Communmties/County"
      ]
    },
    {
      "cell_type": "code",
      "metadata": {
        "id": "AfyYllBbs4E4",
        "colab": {
          "base_uri": "https://localhost:8080/",
          "height": 677
        },
        "outputId": "894a899d-954f-4c84-e496-b791128a5a91"
      },
      "source": [
        "jobs.groupby(['Community']).size().reset_index(name='Count').sort_values('Count', ascending=False).head(20)"
      ],
      "execution_count": null,
      "outputs": [
        {
          "output_type": "execute_result",
          "data": {
            "text/html": [
              "<div>\n",
              "<style scoped>\n",
              "    .dataframe tbody tr th:only-of-type {\n",
              "        vertical-align: middle;\n",
              "    }\n",
              "\n",
              "    .dataframe tbody tr th {\n",
              "        vertical-align: top;\n",
              "    }\n",
              "\n",
              "    .dataframe thead th {\n",
              "        text-align: right;\n",
              "    }\n",
              "</style>\n",
              "<table border=\"1\" class=\"dataframe\">\n",
              "  <thead>\n",
              "    <tr style=\"text-align: right;\">\n",
              "      <th></th>\n",
              "      <th>Community</th>\n",
              "      <th>Count</th>\n",
              "    </tr>\n",
              "  </thead>\n",
              "  <tbody>\n",
              "    <tr>\n",
              "      <th>272</th>\n",
              "      <td>New York, NY</td>\n",
              "      <td>2079</td>\n",
              "    </tr>\n",
              "    <tr>\n",
              "      <th>335</th>\n",
              "      <td>Rochester, NY</td>\n",
              "      <td>329</td>\n",
              "    </tr>\n",
              "    <tr>\n",
              "      <th>47</th>\n",
              "      <td>Buffalo, NY</td>\n",
              "      <td>241</td>\n",
              "    </tr>\n",
              "    <tr>\n",
              "      <th>45</th>\n",
              "      <td>Brooklyn, NY</td>\n",
              "      <td>228</td>\n",
              "    </tr>\n",
              "    <tr>\n",
              "      <th>43</th>\n",
              "      <td>Bronx, NY</td>\n",
              "      <td>165</td>\n",
              "    </tr>\n",
              "    <tr>\n",
              "      <th>243</th>\n",
              "      <td>Melville, NY</td>\n",
              "      <td>141</td>\n",
              "    </tr>\n",
              "    <tr>\n",
              "      <th>0</th>\n",
              "      <td>Albany, NY</td>\n",
              "      <td>109</td>\n",
              "    </tr>\n",
              "    <tr>\n",
              "      <th>417</th>\n",
              "      <td>White Plains, NY</td>\n",
              "      <td>109</td>\n",
              "    </tr>\n",
              "    <tr>\n",
              "      <th>374</th>\n",
              "      <td>Syracuse, NY</td>\n",
              "      <td>91</td>\n",
              "    </tr>\n",
              "    <tr>\n",
              "      <th>163</th>\n",
              "      <td>Hauppauge, NY</td>\n",
              "      <td>75</td>\n",
              "    </tr>\n",
              "    <tr>\n",
              "      <th>139</th>\n",
              "      <td>Garden City, NY</td>\n",
              "      <td>65</td>\n",
              "    </tr>\n",
              "    <tr>\n",
              "      <th>323</th>\n",
              "      <td>Poughkeepsie, NY</td>\n",
              "      <td>48</td>\n",
              "    </tr>\n",
              "    <tr>\n",
              "      <th>124</th>\n",
              "      <td>Farmingdale, NY</td>\n",
              "      <td>47</td>\n",
              "    </tr>\n",
              "    <tr>\n",
              "      <th>35</th>\n",
              "      <td>Binghamton, NY</td>\n",
              "      <td>47</td>\n",
              "    </tr>\n",
              "    <tr>\n",
              "      <th>118</th>\n",
              "      <td>Elmira, NY</td>\n",
              "      <td>43</td>\n",
              "    </tr>\n",
              "    <tr>\n",
              "      <th>226</th>\n",
              "      <td>Long Island City, NY</td>\n",
              "      <td>41</td>\n",
              "    </tr>\n",
              "    <tr>\n",
              "      <th>274</th>\n",
              "      <td>Newburgh, NY</td>\n",
              "      <td>37</td>\n",
              "    </tr>\n",
              "    <tr>\n",
              "      <th>268</th>\n",
              "      <td>New Hyde Park, NY</td>\n",
              "      <td>36</td>\n",
              "    </tr>\n",
              "    <tr>\n",
              "      <th>426</th>\n",
              "      <td>Yonkers, NY</td>\n",
              "      <td>36</td>\n",
              "    </tr>\n",
              "    <tr>\n",
              "      <th>193</th>\n",
              "      <td>Ithaca, NY</td>\n",
              "      <td>33</td>\n",
              "    </tr>\n",
              "  </tbody>\n",
              "</table>\n",
              "</div>"
            ],
            "text/plain": [
              "                Community  Count\n",
              "272          New York, NY   2079\n",
              "335         Rochester, NY    329\n",
              "47            Buffalo, NY    241\n",
              "45           Brooklyn, NY    228\n",
              "43              Bronx, NY    165\n",
              "243          Melville, NY    141\n",
              "0              Albany, NY    109\n",
              "417      White Plains, NY    109\n",
              "374          Syracuse, NY     91\n",
              "163         Hauppauge, NY     75\n",
              "139       Garden City, NY     65\n",
              "323      Poughkeepsie, NY     48\n",
              "124       Farmingdale, NY     47\n",
              "35         Binghamton, NY     47\n",
              "118            Elmira, NY     43\n",
              "226  Long Island City, NY     41\n",
              "274          Newburgh, NY     37\n",
              "268     New Hyde Park, NY     36\n",
              "426           Yonkers, NY     36\n",
              "193            Ithaca, NY     33"
            ]
          },
          "metadata": {},
          "execution_count": 36
        }
      ]
    },
    {
      "cell_type": "markdown",
      "metadata": {
        "id": "pJrWESARs4E4"
      },
      "source": [
        "#### Jobs by zipcodes"
      ]
    },
    {
      "cell_type": "code",
      "metadata": {
        "id": "XPciGiU1s4E5",
        "colab": {
          "base_uri": "https://localhost:8080/",
          "height": 677
        },
        "outputId": "5b5d34f3-0e1f-4a86-b917-177aaed2db93"
      },
      "source": [
        "jobs.groupby(['Community', 'Zip5', 'Coordinates']).size().reset_index(name='Count').sort_values('Count', ascending=False).head(20)"
      ],
      "execution_count": null,
      "outputs": [
        {
          "output_type": "execute_result",
          "data": {
            "text/html": [
              "<div>\n",
              "<style scoped>\n",
              "    .dataframe tbody tr th:only-of-type {\n",
              "        vertical-align: middle;\n",
              "    }\n",
              "\n",
              "    .dataframe tbody tr th {\n",
              "        vertical-align: top;\n",
              "    }\n",
              "\n",
              "    .dataframe thead th {\n",
              "        text-align: right;\n",
              "    }\n",
              "</style>\n",
              "<table border=\"1\" class=\"dataframe\">\n",
              "  <thead>\n",
              "    <tr style=\"text-align: right;\">\n",
              "      <th></th>\n",
              "      <th>Community</th>\n",
              "      <th>Zip5</th>\n",
              "      <th>Coordinates</th>\n",
              "      <th>Count</th>\n",
              "    </tr>\n",
              "  </thead>\n",
              "  <tbody>\n",
              "    <tr>\n",
              "      <th>386</th>\n",
              "      <td>New York, NY</td>\n",
              "      <td>10001</td>\n",
              "      <td>40.75,-73.99</td>\n",
              "      <td>633</td>\n",
              "    </tr>\n",
              "    <tr>\n",
              "      <th>399</th>\n",
              "      <td>New York, NY</td>\n",
              "      <td>10017</td>\n",
              "      <td>40.75,-73.973</td>\n",
              "      <td>212</td>\n",
              "    </tr>\n",
              "    <tr>\n",
              "      <th>398</th>\n",
              "      <td>New York, NY</td>\n",
              "      <td>10016</td>\n",
              "      <td>40.74,-73.97</td>\n",
              "      <td>143</td>\n",
              "    </tr>\n",
              "    <tr>\n",
              "      <th>354</th>\n",
              "      <td>Melville, NY</td>\n",
              "      <td>11747</td>\n",
              "      <td>40.79,-73.4</td>\n",
              "      <td>141</td>\n",
              "    </tr>\n",
              "    <tr>\n",
              "      <th>416</th>\n",
              "      <td>New York, NY</td>\n",
              "      <td>10036</td>\n",
              "      <td>40.76,-73.99</td>\n",
              "      <td>134</td>\n",
              "    </tr>\n",
              "    <tr>\n",
              "      <th>400</th>\n",
              "      <td>New York, NY</td>\n",
              "      <td>10018</td>\n",
              "      <td>40.76,-73.99</td>\n",
              "      <td>118</td>\n",
              "    </tr>\n",
              "    <tr>\n",
              "      <th>404</th>\n",
              "      <td>New York, NY</td>\n",
              "      <td>10022</td>\n",
              "      <td>40.76,-73.97</td>\n",
              "      <td>97</td>\n",
              "    </tr>\n",
              "    <tr>\n",
              "      <th>390</th>\n",
              "      <td>New York, NY</td>\n",
              "      <td>10005</td>\n",
              "      <td>40.705,-74.005</td>\n",
              "      <td>90</td>\n",
              "    </tr>\n",
              "    <tr>\n",
              "      <th>83</th>\n",
              "      <td>Brooklyn, NY</td>\n",
              "      <td>11201</td>\n",
              "      <td>40.7,-73.99</td>\n",
              "      <td>87</td>\n",
              "    </tr>\n",
              "    <tr>\n",
              "      <th>401</th>\n",
              "      <td>New York, NY</td>\n",
              "      <td>10019</td>\n",
              "      <td>40.77,-73.99</td>\n",
              "      <td>76</td>\n",
              "    </tr>\n",
              "    <tr>\n",
              "      <th>267</th>\n",
              "      <td>Hauppauge, NY</td>\n",
              "      <td>11788</td>\n",
              "      <td>40.82,-73.21</td>\n",
              "      <td>75</td>\n",
              "    </tr>\n",
              "    <tr>\n",
              "      <th>431</th>\n",
              "      <td>New York, NY</td>\n",
              "      <td>10167</td>\n",
              "      <td>40.755,-73.975</td>\n",
              "      <td>71</td>\n",
              "    </tr>\n",
              "    <tr>\n",
              "      <th>389</th>\n",
              "      <td>New York, NY</td>\n",
              "      <td>10004</td>\n",
              "      <td>40.7,-74.02</td>\n",
              "      <td>67</td>\n",
              "    </tr>\n",
              "    <tr>\n",
              "      <th>240</th>\n",
              "      <td>Garden City, NY</td>\n",
              "      <td>11530</td>\n",
              "      <td>40.73,-73.64</td>\n",
              "      <td>65</td>\n",
              "    </tr>\n",
              "    <tr>\n",
              "      <th>643</th>\n",
              "      <td>White Plains, NY</td>\n",
              "      <td>10601</td>\n",
              "      <td>41.03,-73.76</td>\n",
              "      <td>64</td>\n",
              "    </tr>\n",
              "    <tr>\n",
              "      <th>527</th>\n",
              "      <td>Rochester, NY</td>\n",
              "      <td>14623</td>\n",
              "      <td>43.09,-77.65</td>\n",
              "      <td>51</td>\n",
              "    </tr>\n",
              "    <tr>\n",
              "      <th>3</th>\n",
              "      <td>Albany, NY</td>\n",
              "      <td>12205</td>\n",
              "      <td>42.72,-73.83</td>\n",
              "      <td>48</td>\n",
              "    </tr>\n",
              "    <tr>\n",
              "      <th>221</th>\n",
              "      <td>Farmingdale, NY</td>\n",
              "      <td>11735</td>\n",
              "      <td>40.73,-73.43</td>\n",
              "      <td>47</td>\n",
              "    </tr>\n",
              "    <tr>\n",
              "      <th>393</th>\n",
              "      <td>New York, NY</td>\n",
              "      <td>10010</td>\n",
              "      <td>40.73,-73.98</td>\n",
              "      <td>45</td>\n",
              "    </tr>\n",
              "    <tr>\n",
              "      <th>132</th>\n",
              "      <td>Buffalo, NY</td>\n",
              "      <td>14221</td>\n",
              "      <td>42.99,-78.73</td>\n",
              "      <td>43</td>\n",
              "    </tr>\n",
              "  </tbody>\n",
              "</table>\n",
              "</div>"
            ],
            "text/plain": [
              "            Community   Zip5     Coordinates  Count\n",
              "386      New York, NY  10001    40.75,-73.99    633\n",
              "399      New York, NY  10017   40.75,-73.973    212\n",
              "398      New York, NY  10016    40.74,-73.97    143\n",
              "354      Melville, NY  11747     40.79,-73.4    141\n",
              "416      New York, NY  10036    40.76,-73.99    134\n",
              "400      New York, NY  10018    40.76,-73.99    118\n",
              "404      New York, NY  10022    40.76,-73.97     97\n",
              "390      New York, NY  10005  40.705,-74.005     90\n",
              "83       Brooklyn, NY  11201     40.7,-73.99     87\n",
              "401      New York, NY  10019    40.77,-73.99     76\n",
              "267     Hauppauge, NY  11788    40.82,-73.21     75\n",
              "431      New York, NY  10167  40.755,-73.975     71\n",
              "389      New York, NY  10004     40.7,-74.02     67\n",
              "240   Garden City, NY  11530    40.73,-73.64     65\n",
              "643  White Plains, NY  10601    41.03,-73.76     64\n",
              "527     Rochester, NY  14623    43.09,-77.65     51\n",
              "3          Albany, NY  12205    42.72,-73.83     48\n",
              "221   Farmingdale, NY  11735    40.73,-73.43     47\n",
              "393      New York, NY  10010    40.73,-73.98     45\n",
              "132       Buffalo, NY  14221    42.99,-78.73     43"
            ]
          },
          "metadata": {},
          "execution_count": 37
        }
      ]
    },
    {
      "cell_type": "markdown",
      "metadata": {
        "id": "uGuQKft6s4E6"
      },
      "source": [
        "#### Users by Community"
      ]
    },
    {
      "cell_type": "code",
      "metadata": {
        "id": "I3OTtGDbs4E7",
        "colab": {
          "base_uri": "https://localhost:8080/",
          "height": 677
        },
        "outputId": "fcf52947-bbf6-44fb-93ff-15525b8a8efb"
      },
      "source": [
        "users.groupby(['Community']).size().reset_index(name='Count').sort_values('Count', ascending=False).head(20)"
      ],
      "execution_count": null,
      "outputs": [
        {
          "output_type": "execute_result",
          "data": {
            "text/html": [
              "<div>\n",
              "<style scoped>\n",
              "    .dataframe tbody tr th:only-of-type {\n",
              "        vertical-align: middle;\n",
              "    }\n",
              "\n",
              "    .dataframe tbody tr th {\n",
              "        vertical-align: top;\n",
              "    }\n",
              "\n",
              "    .dataframe thead th {\n",
              "        text-align: right;\n",
              "    }\n",
              "</style>\n",
              "<table border=\"1\" class=\"dataframe\">\n",
              "  <thead>\n",
              "    <tr style=\"text-align: right;\">\n",
              "      <th></th>\n",
              "      <th>Community</th>\n",
              "      <th>Count</th>\n",
              "    </tr>\n",
              "  </thead>\n",
              "  <tbody>\n",
              "    <tr>\n",
              "      <th>49</th>\n",
              "      <td>Brooklyn, NY</td>\n",
              "      <td>544</td>\n",
              "    </tr>\n",
              "    <tr>\n",
              "      <th>284</th>\n",
              "      <td>New York, NY</td>\n",
              "      <td>446</td>\n",
              "    </tr>\n",
              "    <tr>\n",
              "      <th>46</th>\n",
              "      <td>Bronx, NY</td>\n",
              "      <td>405</td>\n",
              "    </tr>\n",
              "    <tr>\n",
              "      <th>354</th>\n",
              "      <td>Rochester, NY</td>\n",
              "      <td>200</td>\n",
              "    </tr>\n",
              "    <tr>\n",
              "      <th>397</th>\n",
              "      <td>Staten Island, NY</td>\n",
              "      <td>90</td>\n",
              "    </tr>\n",
              "    <tr>\n",
              "      <th>208</th>\n",
              "      <td>Jamaica, NY</td>\n",
              "      <td>88</td>\n",
              "    </tr>\n",
              "    <tr>\n",
              "      <th>458</th>\n",
              "      <td>Yonkers, NY</td>\n",
              "      <td>62</td>\n",
              "    </tr>\n",
              "    <tr>\n",
              "      <th>51</th>\n",
              "      <td>Buffalo, NY</td>\n",
              "      <td>61</td>\n",
              "    </tr>\n",
              "    <tr>\n",
              "      <th>138</th>\n",
              "      <td>Flushing, NY</td>\n",
              "      <td>38</td>\n",
              "    </tr>\n",
              "    <tr>\n",
              "      <th>11</th>\n",
              "      <td>Astoria, NY</td>\n",
              "      <td>36</td>\n",
              "    </tr>\n",
              "    <tr>\n",
              "      <th>404</th>\n",
              "      <td>Syracuse, NY</td>\n",
              "      <td>30</td>\n",
              "    </tr>\n",
              "    <tr>\n",
              "      <th>444</th>\n",
              "      <td>White Plains, NY</td>\n",
              "      <td>28</td>\n",
              "    </tr>\n",
              "    <tr>\n",
              "      <th>272</th>\n",
              "      <td>Mount Vernon, NY</td>\n",
              "      <td>26</td>\n",
              "    </tr>\n",
              "    <tr>\n",
              "      <th>1</th>\n",
              "      <td>Albany, NY</td>\n",
              "      <td>25</td>\n",
              "    </tr>\n",
              "    <tr>\n",
              "      <th>336</th>\n",
              "      <td>Poughkeepsie, NY</td>\n",
              "      <td>24</td>\n",
              "    </tr>\n",
              "    <tr>\n",
              "      <th>179</th>\n",
              "      <td>Hempstead, NY</td>\n",
              "      <td>24</td>\n",
              "    </tr>\n",
              "    <tr>\n",
              "      <th>394</th>\n",
              "      <td>Springfield Gardens, NY</td>\n",
              "      <td>24</td>\n",
              "    </tr>\n",
              "    <tr>\n",
              "      <th>341</th>\n",
              "      <td>Queens Village, NY</td>\n",
              "      <td>24</td>\n",
              "    </tr>\n",
              "    <tr>\n",
              "      <th>24</th>\n",
              "      <td>Bay Shore, NY</td>\n",
              "      <td>24</td>\n",
              "    </tr>\n",
              "    <tr>\n",
              "      <th>35</th>\n",
              "      <td>Binghamton, NY</td>\n",
              "      <td>23</td>\n",
              "    </tr>\n",
              "  </tbody>\n",
              "</table>\n",
              "</div>"
            ],
            "text/plain": [
              "                   Community  Count\n",
              "49              Brooklyn, NY    544\n",
              "284             New York, NY    446\n",
              "46                 Bronx, NY    405\n",
              "354            Rochester, NY    200\n",
              "397        Staten Island, NY     90\n",
              "208              Jamaica, NY     88\n",
              "458              Yonkers, NY     62\n",
              "51               Buffalo, NY     61\n",
              "138             Flushing, NY     38\n",
              "11               Astoria, NY     36\n",
              "404             Syracuse, NY     30\n",
              "444         White Plains, NY     28\n",
              "272         Mount Vernon, NY     26\n",
              "1                 Albany, NY     25\n",
              "336         Poughkeepsie, NY     24\n",
              "179            Hempstead, NY     24\n",
              "394  Springfield Gardens, NY     24\n",
              "341       Queens Village, NY     24\n",
              "24             Bay Shore, NY     24\n",
              "35            Binghamton, NY     23"
            ]
          },
          "metadata": {},
          "execution_count": 38
        }
      ]
    },
    {
      "cell_type": "markdown",
      "metadata": {
        "id": "2Z3-3SYes4E7"
      },
      "source": [
        "### Machine Learninig Pipeline: NLP Model"
      ]
    },
    {
      "cell_type": "code",
      "metadata": {
        "scrolled": true,
        "id": "Qi7F7jRSs4E7",
        "colab": {
          "base_uri": "https://localhost:8080/"
        },
        "outputId": "a3aaa1d5-9f56-4685-91f0-1d29269ceed2"
      },
      "source": [
        "%%time\n",
        "def similarities_nlp_model( model_name = \"jobs_doc2vec_model\",\n",
        "                 mapping_name = \"jobID_mapping.p\", max_epochs = 100,\n",
        "                 alpha = 0.025):\n",
        "    \n",
        "    document = list()\n",
        "    jobID_mapping = dict()\n",
        "        \n",
        "    for i, token in enumerate(jobs['profile']):\n",
        "        value = jobs.iloc[i][\"JobID\"]\n",
        "        tokens = TaggedDocument(simple_preprocess(token), [i])\n",
        "        document.append(tokens)\n",
        "        jobID_mapping[i] = value\n",
        "\n",
        "    epoch_logger = EpochLogger()\n",
        "    model = Doc2Vec(size = 20, alpha=alpha, \n",
        "                    min_alpha=0.00025, min_count=2,\n",
        "                    callbacks=[epoch_logger], dm =1, workers=8, window=2)\n",
        "    \n",
        "    model.build_vocab(document)\n",
        "    print(model.corpus_count)\n",
        "    for epoch in range(max_epochs):\n",
        "        print('iteration {0}'.format(epoch))\n",
        "        model.train(document, \n",
        "                    total_examples=model.corpus_count, \n",
        "                    epochs=model.iter)\n",
        "        # decrease the learning rate\n",
        "        model.alpha -= 0.0002\n",
        "        # fix the learning rate, no decay\n",
        "        model.min_alpha = model.alpha\n",
        "\n",
        "    # create a dictionary\n",
        "    pickle.dump(model, open(model_name, \"wb\")) \n",
        "    pickle.dump(jobID_mapping, open(mapping_name, \"wb\")) \n",
        "\n",
        "# -------------------------------------------------------------\n",
        "# Load the dictionary back from the pickle file.\n",
        "    return model, jobID_mapping\n",
        "\n",
        "model, jobID_mapping = similarities_nlp_model()\n"
      ],
      "execution_count": null,
      "outputs": [
        {
          "output_type": "stream",
          "name": "stdout",
          "text": [
            "6736\n",
            "iteration 0\n",
            "Epoch #0 start\n",
            "Epoch #1 start\n",
            "Epoch #2 start\n",
            "Epoch #3 start\n",
            "Epoch #4 start\n",
            "iteration 1\n",
            "Epoch #5 start\n",
            "Epoch #6 start\n",
            "Epoch #7 start\n",
            "Epoch #8 start\n",
            "Epoch #9 start\n",
            "iteration 2\n",
            "Epoch #10 start\n",
            "Epoch #11 start\n",
            "Epoch #12 start\n",
            "Epoch #13 start\n",
            "Epoch #14 start\n",
            "iteration 3\n",
            "Epoch #15 start\n",
            "Epoch #16 start\n",
            "Epoch #17 start\n",
            "Epoch #18 start\n",
            "Epoch #19 start\n",
            "iteration 4\n",
            "Epoch #20 start\n",
            "Epoch #21 start\n",
            "Epoch #22 start\n",
            "Epoch #23 start\n",
            "Epoch #24 start\n",
            "iteration 5\n",
            "Epoch #25 start\n",
            "Epoch #26 start\n",
            "Epoch #27 start\n",
            "Epoch #28 start\n",
            "Epoch #29 start\n",
            "iteration 6\n",
            "Epoch #30 start\n",
            "Epoch #31 start\n",
            "Epoch #32 start\n",
            "Epoch #33 start\n",
            "Epoch #34 start\n",
            "iteration 7\n",
            "Epoch #35 start\n",
            "Epoch #36 start\n",
            "Epoch #37 start\n",
            "Epoch #38 start\n",
            "Epoch #39 start\n",
            "iteration 8\n",
            "Epoch #40 start\n",
            "Epoch #41 start\n",
            "Epoch #42 start\n",
            "Epoch #43 start\n",
            "Epoch #44 start\n",
            "iteration 9\n",
            "Epoch #45 start\n",
            "Epoch #46 start\n",
            "Epoch #47 start\n",
            "Epoch #48 start\n",
            "Epoch #49 start\n",
            "iteration 10\n",
            "Epoch #50 start\n",
            "Epoch #51 start\n",
            "Epoch #52 start\n",
            "Epoch #53 start\n",
            "Epoch #54 start\n",
            "iteration 11\n",
            "Epoch #55 start\n",
            "Epoch #56 start\n",
            "Epoch #57 start\n",
            "Epoch #58 start\n",
            "Epoch #59 start\n",
            "iteration 12\n",
            "Epoch #60 start\n",
            "Epoch #61 start\n",
            "Epoch #62 start\n",
            "Epoch #63 start\n",
            "Epoch #64 start\n",
            "iteration 13\n",
            "Epoch #65 start\n",
            "Epoch #66 start\n",
            "Epoch #67 start\n",
            "Epoch #68 start\n",
            "Epoch #69 start\n",
            "iteration 14\n",
            "Epoch #70 start\n",
            "Epoch #71 start\n",
            "Epoch #72 start\n",
            "Epoch #73 start\n",
            "Epoch #74 start\n",
            "iteration 15\n",
            "Epoch #75 start\n",
            "Epoch #76 start\n",
            "Epoch #77 start\n",
            "Epoch #78 start\n",
            "Epoch #79 start\n",
            "iteration 16\n",
            "Epoch #80 start\n",
            "Epoch #81 start\n",
            "Epoch #82 start\n",
            "Epoch #83 start\n",
            "Epoch #84 start\n",
            "iteration 17\n",
            "Epoch #85 start\n",
            "Epoch #86 start\n",
            "Epoch #87 start\n",
            "Epoch #88 start\n",
            "Epoch #89 start\n",
            "iteration 18\n",
            "Epoch #90 start\n",
            "Epoch #91 start\n",
            "Epoch #92 start\n",
            "Epoch #93 start\n",
            "Epoch #94 start\n",
            "iteration 19\n",
            "Epoch #95 start\n",
            "Epoch #96 start\n",
            "Epoch #97 start\n",
            "Epoch #98 start\n",
            "Epoch #99 start\n",
            "iteration 20\n",
            "Epoch #100 start\n",
            "Epoch #101 start\n",
            "Epoch #102 start\n",
            "Epoch #103 start\n",
            "Epoch #104 start\n",
            "iteration 21\n",
            "Epoch #105 start\n",
            "Epoch #106 start\n",
            "Epoch #107 start\n",
            "Epoch #108 start\n",
            "Epoch #109 start\n",
            "iteration 22\n",
            "Epoch #110 start\n",
            "Epoch #111 start\n",
            "Epoch #112 start\n",
            "Epoch #113 start\n",
            "Epoch #114 start\n",
            "iteration 23\n",
            "Epoch #115 start\n",
            "Epoch #116 start\n",
            "Epoch #117 start\n",
            "Epoch #118 start\n",
            "Epoch #119 start\n",
            "iteration 24\n",
            "Epoch #120 start\n",
            "Epoch #121 start\n",
            "Epoch #122 start\n",
            "Epoch #123 start\n",
            "Epoch #124 start\n",
            "iteration 25\n",
            "Epoch #125 start\n",
            "Epoch #126 start\n",
            "Epoch #127 start\n",
            "Epoch #128 start\n",
            "Epoch #129 start\n",
            "iteration 26\n",
            "Epoch #130 start\n",
            "Epoch #131 start\n",
            "Epoch #132 start\n",
            "Epoch #133 start\n",
            "Epoch #134 start\n",
            "iteration 27\n",
            "Epoch #135 start\n",
            "Epoch #136 start\n",
            "Epoch #137 start\n",
            "Epoch #138 start\n",
            "Epoch #139 start\n",
            "iteration 28\n",
            "Epoch #140 start\n",
            "Epoch #141 start\n",
            "Epoch #142 start\n",
            "Epoch #143 start\n",
            "Epoch #144 start\n",
            "iteration 29\n",
            "Epoch #145 start\n",
            "Epoch #146 start\n",
            "Epoch #147 start\n",
            "Epoch #148 start\n",
            "Epoch #149 start\n",
            "iteration 30\n",
            "Epoch #150 start\n",
            "Epoch #151 start\n",
            "Epoch #152 start\n",
            "Epoch #153 start\n",
            "Epoch #154 start\n",
            "iteration 31\n",
            "Epoch #155 start\n",
            "Epoch #156 start\n",
            "Epoch #157 start\n",
            "Epoch #158 start\n",
            "Epoch #159 start\n",
            "iteration 32\n",
            "Epoch #160 start\n",
            "Epoch #161 start\n",
            "Epoch #162 start\n",
            "Epoch #163 start\n",
            "Epoch #164 start\n",
            "iteration 33\n",
            "Epoch #165 start\n",
            "Epoch #166 start\n",
            "Epoch #167 start\n",
            "Epoch #168 start\n",
            "Epoch #169 start\n",
            "iteration 34\n",
            "Epoch #170 start\n",
            "Epoch #171 start\n",
            "Epoch #172 start\n",
            "Epoch #173 start\n",
            "Epoch #174 start\n",
            "iteration 35\n",
            "Epoch #175 start\n",
            "Epoch #176 start\n",
            "Epoch #177 start\n",
            "Epoch #178 start\n",
            "Epoch #179 start\n",
            "iteration 36\n",
            "Epoch #180 start\n",
            "Epoch #181 start\n",
            "Epoch #182 start\n",
            "Epoch #183 start\n",
            "Epoch #184 start\n",
            "iteration 37\n",
            "Epoch #185 start\n",
            "Epoch #186 start\n",
            "Epoch #187 start\n",
            "Epoch #188 start\n",
            "Epoch #189 start\n",
            "iteration 38\n",
            "Epoch #190 start\n",
            "Epoch #191 start\n",
            "Epoch #192 start\n",
            "Epoch #193 start\n",
            "Epoch #194 start\n",
            "iteration 39\n",
            "Epoch #195 start\n",
            "Epoch #196 start\n",
            "Epoch #197 start\n",
            "Epoch #198 start\n",
            "Epoch #199 start\n",
            "iteration 40\n",
            "Epoch #200 start\n",
            "Epoch #201 start\n",
            "Epoch #202 start\n",
            "Epoch #203 start\n",
            "Epoch #204 start\n",
            "iteration 41\n",
            "Epoch #205 start\n",
            "Epoch #206 start\n",
            "Epoch #207 start\n",
            "Epoch #208 start\n",
            "Epoch #209 start\n",
            "iteration 42\n",
            "Epoch #210 start\n",
            "Epoch #211 start\n",
            "Epoch #212 start\n",
            "Epoch #213 start\n",
            "Epoch #214 start\n",
            "iteration 43\n",
            "Epoch #215 start\n",
            "Epoch #216 start\n",
            "Epoch #217 start\n",
            "Epoch #218 start\n",
            "Epoch #219 start\n",
            "iteration 44\n",
            "Epoch #220 start\n",
            "Epoch #221 start\n",
            "Epoch #222 start\n",
            "Epoch #223 start\n",
            "Epoch #224 start\n",
            "iteration 45\n",
            "Epoch #225 start\n",
            "Epoch #226 start\n",
            "Epoch #227 start\n",
            "Epoch #228 start\n",
            "Epoch #229 start\n",
            "iteration 46\n",
            "Epoch #230 start\n",
            "Epoch #231 start\n",
            "Epoch #232 start\n",
            "Epoch #233 start\n",
            "Epoch #234 start\n",
            "iteration 47\n",
            "Epoch #235 start\n",
            "Epoch #236 start\n",
            "Epoch #237 start\n",
            "Epoch #238 start\n",
            "Epoch #239 start\n",
            "iteration 48\n",
            "Epoch #240 start\n",
            "Epoch #241 start\n",
            "Epoch #242 start\n",
            "Epoch #243 start\n",
            "Epoch #244 start\n",
            "iteration 49\n",
            "Epoch #245 start\n",
            "Epoch #246 start\n",
            "Epoch #247 start\n",
            "Epoch #248 start\n",
            "Epoch #249 start\n",
            "iteration 50\n",
            "Epoch #250 start\n",
            "Epoch #251 start\n",
            "Epoch #252 start\n",
            "Epoch #253 start\n",
            "Epoch #254 start\n",
            "iteration 51\n",
            "Epoch #255 start\n",
            "Epoch #256 start\n",
            "Epoch #257 start\n",
            "Epoch #258 start\n",
            "Epoch #259 start\n",
            "iteration 52\n",
            "Epoch #260 start\n",
            "Epoch #261 start\n",
            "Epoch #262 start\n",
            "Epoch #263 start\n",
            "Epoch #264 start\n",
            "iteration 53\n",
            "Epoch #265 start\n",
            "Epoch #266 start\n",
            "Epoch #267 start\n",
            "Epoch #268 start\n",
            "Epoch #269 start\n",
            "iteration 54\n",
            "Epoch #270 start\n",
            "Epoch #271 start\n",
            "Epoch #272 start\n",
            "Epoch #273 start\n",
            "Epoch #274 start\n",
            "iteration 55\n",
            "Epoch #275 start\n",
            "Epoch #276 start\n",
            "Epoch #277 start\n",
            "Epoch #278 start\n",
            "Epoch #279 start\n",
            "iteration 56\n",
            "Epoch #280 start\n",
            "Epoch #281 start\n",
            "Epoch #282 start\n",
            "Epoch #283 start\n",
            "Epoch #284 start\n",
            "iteration 57\n",
            "Epoch #285 start\n",
            "Epoch #286 start\n",
            "Epoch #287 start\n",
            "Epoch #288 start\n",
            "Epoch #289 start\n",
            "iteration 58\n",
            "Epoch #290 start\n",
            "Epoch #291 start\n",
            "Epoch #292 start\n",
            "Epoch #293 start\n",
            "Epoch #294 start\n",
            "iteration 59\n",
            "Epoch #295 start\n",
            "Epoch #296 start\n",
            "Epoch #297 start\n",
            "Epoch #298 start\n",
            "Epoch #299 start\n",
            "iteration 60\n",
            "Epoch #300 start\n",
            "Epoch #301 start\n",
            "Epoch #302 start\n",
            "Epoch #303 start\n",
            "Epoch #304 start\n",
            "iteration 61\n",
            "Epoch #305 start\n",
            "Epoch #306 start\n",
            "Epoch #307 start\n",
            "Epoch #308 start\n",
            "Epoch #309 start\n",
            "iteration 62\n",
            "Epoch #310 start\n",
            "Epoch #311 start\n",
            "Epoch #312 start\n",
            "Epoch #313 start\n",
            "Epoch #314 start\n",
            "iteration 63\n",
            "Epoch #315 start\n",
            "Epoch #316 start\n",
            "Epoch #317 start\n",
            "Epoch #318 start\n",
            "Epoch #319 start\n",
            "iteration 64\n",
            "Epoch #320 start\n",
            "Epoch #321 start\n",
            "Epoch #322 start\n",
            "Epoch #323 start\n",
            "Epoch #324 start\n",
            "iteration 65\n",
            "Epoch #325 start\n",
            "Epoch #326 start\n",
            "Epoch #327 start\n",
            "Epoch #328 start\n",
            "Epoch #329 start\n",
            "iteration 66\n",
            "Epoch #330 start\n",
            "Epoch #331 start\n",
            "Epoch #332 start\n",
            "Epoch #333 start\n",
            "Epoch #334 start\n",
            "iteration 67\n",
            "Epoch #335 start\n",
            "Epoch #336 start\n",
            "Epoch #337 start\n",
            "Epoch #338 start\n",
            "Epoch #339 start\n",
            "iteration 68\n",
            "Epoch #340 start\n",
            "Epoch #341 start\n",
            "Epoch #342 start\n",
            "Epoch #343 start\n",
            "Epoch #344 start\n",
            "iteration 69\n",
            "Epoch #345 start\n",
            "Epoch #346 start\n",
            "Epoch #347 start\n",
            "Epoch #348 start\n",
            "Epoch #349 start\n",
            "iteration 70\n",
            "Epoch #350 start\n",
            "Epoch #351 start\n",
            "Epoch #352 start\n",
            "Epoch #353 start\n",
            "Epoch #354 start\n",
            "iteration 71\n",
            "Epoch #355 start\n",
            "Epoch #356 start\n",
            "Epoch #357 start\n",
            "Epoch #358 start\n",
            "Epoch #359 start\n",
            "iteration 72\n",
            "Epoch #360 start\n",
            "Epoch #361 start\n",
            "Epoch #362 start\n",
            "Epoch #363 start\n",
            "Epoch #364 start\n",
            "iteration 73\n",
            "Epoch #365 start\n",
            "Epoch #366 start\n",
            "Epoch #367 start\n",
            "Epoch #368 start\n",
            "Epoch #369 start\n",
            "iteration 74\n",
            "Epoch #370 start\n",
            "Epoch #371 start\n",
            "Epoch #372 start\n",
            "Epoch #373 start\n",
            "Epoch #374 start\n",
            "iteration 75\n",
            "Epoch #375 start\n",
            "Epoch #376 start\n",
            "Epoch #377 start\n",
            "Epoch #378 start\n",
            "Epoch #379 start\n",
            "iteration 76\n",
            "Epoch #380 start\n",
            "Epoch #381 start\n",
            "Epoch #382 start\n",
            "Epoch #383 start\n",
            "Epoch #384 start\n",
            "iteration 77\n",
            "Epoch #385 start\n",
            "Epoch #386 start\n",
            "Epoch #387 start\n",
            "Epoch #388 start\n",
            "Epoch #389 start\n",
            "iteration 78\n",
            "Epoch #390 start\n",
            "Epoch #391 start\n",
            "Epoch #392 start\n",
            "Epoch #393 start\n",
            "Epoch #394 start\n",
            "iteration 79\n",
            "Epoch #395 start\n",
            "Epoch #396 start\n",
            "Epoch #397 start\n",
            "Epoch #398 start\n",
            "Epoch #399 start\n",
            "iteration 80\n",
            "Epoch #400 start\n",
            "Epoch #401 start\n",
            "Epoch #402 start\n",
            "Epoch #403 start\n",
            "Epoch #404 start\n",
            "iteration 81\n",
            "Epoch #405 start\n",
            "Epoch #406 start\n",
            "Epoch #407 start\n",
            "Epoch #408 start\n",
            "Epoch #409 start\n",
            "iteration 82\n",
            "Epoch #410 start\n",
            "Epoch #411 start\n",
            "Epoch #412 start\n",
            "Epoch #413 start\n",
            "Epoch #414 start\n",
            "iteration 83\n",
            "Epoch #415 start\n",
            "Epoch #416 start\n",
            "Epoch #417 start\n",
            "Epoch #418 start\n",
            "Epoch #419 start\n",
            "iteration 84\n",
            "Epoch #420 start\n",
            "Epoch #421 start\n",
            "Epoch #422 start\n",
            "Epoch #423 start\n",
            "Epoch #424 start\n",
            "iteration 85\n",
            "Epoch #425 start\n",
            "Epoch #426 start\n",
            "Epoch #427 start\n",
            "Epoch #428 start\n",
            "Epoch #429 start\n",
            "iteration 86\n",
            "Epoch #430 start\n",
            "Epoch #431 start\n",
            "Epoch #432 start\n",
            "Epoch #433 start\n",
            "Epoch #434 start\n",
            "iteration 87\n",
            "Epoch #435 start\n",
            "Epoch #436 start\n",
            "Epoch #437 start\n",
            "Epoch #438 start\n",
            "Epoch #439 start\n",
            "iteration 88\n",
            "Epoch #440 start\n",
            "Epoch #441 start\n",
            "Epoch #442 start\n",
            "Epoch #443 start\n",
            "Epoch #444 start\n",
            "iteration 89\n",
            "Epoch #445 start\n",
            "Epoch #446 start\n",
            "Epoch #447 start\n",
            "Epoch #448 start\n",
            "Epoch #449 start\n",
            "iteration 90\n",
            "Epoch #450 start\n",
            "Epoch #451 start\n",
            "Epoch #452 start\n",
            "Epoch #453 start\n",
            "Epoch #454 start\n",
            "iteration 91\n",
            "Epoch #455 start\n",
            "Epoch #456 start\n",
            "Epoch #457 start\n",
            "Epoch #458 start\n",
            "Epoch #459 start\n",
            "iteration 92\n",
            "Epoch #460 start\n",
            "Epoch #461 start\n",
            "Epoch #462 start\n",
            "Epoch #463 start\n",
            "Epoch #464 start\n",
            "iteration 93\n",
            "Epoch #465 start\n",
            "Epoch #466 start\n",
            "Epoch #467 start\n",
            "Epoch #468 start\n",
            "Epoch #469 start\n",
            "iteration 94\n",
            "Epoch #470 start\n",
            "Epoch #471 start\n",
            "Epoch #472 start\n",
            "Epoch #473 start\n",
            "Epoch #474 start\n",
            "iteration 95\n",
            "Epoch #475 start\n",
            "Epoch #476 start\n",
            "Epoch #477 start\n",
            "Epoch #478 start\n",
            "Epoch #479 start\n",
            "iteration 96\n",
            "Epoch #480 start\n",
            "Epoch #481 start\n",
            "Epoch #482 start\n",
            "Epoch #483 start\n",
            "Epoch #484 start\n",
            "iteration 97\n",
            "Epoch #485 start\n",
            "Epoch #486 start\n",
            "Epoch #487 start\n",
            "Epoch #488 start\n",
            "Epoch #489 start\n",
            "iteration 98\n",
            "Epoch #490 start\n",
            "Epoch #491 start\n",
            "Epoch #492 start\n",
            "Epoch #493 start\n",
            "Epoch #494 start\n",
            "iteration 99\n",
            "Epoch #495 start\n",
            "Epoch #496 start\n",
            "Epoch #497 start\n",
            "Epoch #498 start\n",
            "Epoch #499 start\n",
            "CPU times: user 51min 16s, sys: 2min 11s, total: 53min 28s\n",
            "Wall time: 31min 10s\n"
          ]
        }
      ]
    },
    {
      "cell_type": "markdown",
      "metadata": {
        "id": "qOKjoQAfs4E9"
      },
      "source": [
        "### Recommender Pipeline"
      ]
    },
    {
      "cell_type": "markdown",
      "metadata": {
        "id": "6zp8bO2ks4E9"
      },
      "source": [
        "#### Recomender by popularity/Cold Star"
      ]
    },
    {
      "cell_type": "code",
      "metadata": {
        "id": "4cXt6YAus4E9"
      },
      "source": [
        "unique = 0.3 #update name\n",
        "top = 20\n",
        "\n",
        "def ranking_by_popularity(top = 100):\n",
        "    \n",
        "    popular_jobs = user_history.groupby(\n",
        "    ['JobTitle']).size().reset_index(\n",
        "    name='Count').sort_values('Count', ascending=False)\n",
        "    ranking =  dict()\n",
        "    top_i = 0\n",
        "    \n",
        "    while True:\n",
        "        job_title = popular_jobs['JobTitle'].iloc[top_i]\n",
        "        jobs_list = jobs.loc[jobs['Title'] == job_title, ['JobID']]['JobID'].unique().tolist()\n",
        "\n",
        "        if len(jobs_list) > 1:\n",
        "            ranking[job_title] = jobs_list\n",
        "\n",
        "        if len(ranking) == top:\n",
        "            break\n",
        "\n",
        "        top_i +=1\n",
        "    return ranking\n",
        "\n",
        "ranking_popular = ranking_by_popularity(top = 50)"
      ],
      "execution_count": null,
      "outputs": []
    },
    {
      "cell_type": "code",
      "metadata": {
        "id": "8jd4vsCZs4E_"
      },
      "source": [
        "\n",
        "def recommender_popular_jobs(user_id,  top = 10):\n",
        "    \n",
        "    recommended_popular_jobs = dict()\n",
        "    c1 = users.loc[users['UserID'] == user_id, 'Coordinates']\n",
        "    count = 0\n",
        "    if user_exist(user_id) and has_coordinates(user_id):\n",
        "        for title, jobs_list in ranking_popular.items():\n",
        "            \n",
        "            distances = dict()\n",
        "        \n",
        "            for job in jobs_list:\n",
        "                \n",
        "                c2 = jobs.loc[jobs['JobID'] == job, 'Coordinates']\n",
        "                if c2.iloc[0].split(',')[0] == 'None':\n",
        "                    continue\n",
        "\n",
        "                distances[job] = round(distance(c1, c2.iloc[0]).miles, 2)\n",
        "            \n",
        "            distances = sorted(distances.items(), key=lambda kv: kv[1])\n",
        "            closest = distances[0]\n",
        "            if closest[1] >= MAX_DISTANCE:\n",
        "                continue\n",
        "            recommended_popular_jobs[title] = (closest[0], closest[1])\n",
        "            count += 1\n",
        "            if count == top:\n",
        "                break\n",
        "            \n",
        "        if len (recommended_popular_jobs) < top:\n",
        "            count = len (recommended_popular_jobs) -1\n",
        "            \n",
        "            for title, jobs_list in ranking_popular.items():\n",
        "                recommended_popular_jobs[title] = jobs_list[0]\n",
        "                count += 1\n",
        "                if count == top:\n",
        "                    break\n",
        "\n",
        "            \n",
        "    else:\n",
        "        for title, jobs_list in ranking_popular.items():\n",
        "            recommended_popular_jobs[title] = jobs_list[0]\n",
        "            count += 1\n",
        "            if count == top:\n",
        "                break\n",
        "            \n",
        "    \n",
        "    \n",
        "    return recommended_popular_jobs\n",
        "\n",
        "\n"
      ],
      "execution_count": null,
      "outputs": []
    },
    {
      "cell_type": "markdown",
      "metadata": {
        "id": "l5gH0Z5as4E_"
      },
      "source": [
        "#### Content Based Recommender\n",
        "\n"
      ]
    },
    {
      "cell_type": "code",
      "metadata": {
        "id": "tJWPb7Ljs4E_"
      },
      "source": [
        "#If user has coordinates\n",
        "#if user has info then similarties if not popularity ranker\n",
        "jobID_mapping = pickle.load(open(\"jobID_mapping.p\", \"rb\"))\n",
        "model  = pickle.load(open(\"jobs_doc2vec_model\", \"rb\"))\n",
        "\n",
        "def content_distance_based_recommender(user_id, jobID_mapping = jobID_mapping, model =  model, top = 10):\n",
        "    #As infer_vector produce stochastics result I made a for to save the best list\n",
        "    user_profile = np.array(users.loc[users['UserID'] == user_id, 'profile'])[0]\n",
        "\n",
        "    historical_apps = historical_application(user_id)\n",
        "    for application in historical_apps:\n",
        "        user_profile += \". \" + (str(application[0]) + \" \")\n",
        "    user_profile = simple_preprocess(user_profile)\n",
        "    \n",
        "    best = 0\n",
        "    tops =pd.DataFrame(index = range(top), columns = ['JobID', 'Title', 'Distance', 'Description', 'Requirements'])\n",
        "    c1 = users.loc[users['UserID'] == user_id, 'Coordinates']\n",
        "    job_distance_list = list()\n",
        "    \n",
        "    for i in range (1):\n",
        "        inferred_vector = model.infer_vector(user_profile)\n",
        "        sims = model.docvecs.most_similar([inferred_vector], topn=len(model.docvecs))\n",
        "        sum_results = 0\n",
        "        count = 0\n",
        "        total_recom = 0\n",
        "        job_distance_list = list()\n",
        "        \n",
        "        while True:\n",
        "            job_id = jobID_mapping[sims[count][0]]\n",
        "            c2 = jobs.loc[jobs['JobID'] == jobID_mapping[sims[count][0]], 'Coordinates']\n",
        "            count +=1\n",
        "            if len(c2) == 0:\n",
        "                #print(\"Empty\", sims[count][0])\n",
        "                continue\n",
        "            \n",
        "            if c2.iloc[0].split(',')[0] == 'None':\n",
        "                #print('None', sims[count][0])\n",
        "                continue\n",
        "                \n",
        "            ## bug here\n",
        "            job_distance = round(distance(c1, c2).miles, 2)\n",
        "            \n",
        "            if job_distance >= MAX_DISTANCE:\n",
        "                #print('Distance', job_distance,  sims[count][0])\n",
        "                continue\n",
        "\n",
        "            sum_results+=sims[count][1]\n",
        "            total_recom +=1\n",
        "            job_distance_list.append(job_distance)\n",
        "            if total_recom == top:\n",
        "                break\n",
        "        \n",
        "        ##Best simulation\n",
        "        if sum_results > best:\n",
        "            best = sum_results\n",
        "            best_sim = sims\n",
        "            job_distance_list2 = job_distance_list\n",
        "            \n",
        "    for i in range(top):\n",
        "        recomendation = jobID_mapping[best_sim[i][0]]\n",
        "        tops.iloc[i]['JobID', 'Title',  'Description', 'Requirements'] = np.array(jobs.loc[jobs['JobID'] == recomendation][['JobID', 'Title', \n",
        "                                                               'Description', 'Requirements']])[0]\n",
        "        tops.iloc[i]['Distance'] = job_distance_list2[i]\n",
        "    \n",
        "    return tops \n",
        " \n",
        "        "
      ],
      "execution_count": null,
      "outputs": []
    },
    {
      "cell_type": "code",
      "metadata": {
        "id": "W2vdH39hs4E_"
      },
      "source": [
        "def hybrid_recommender(user_id, top=10):\n",
        "    \n",
        "    if has_coordinates(user_id) and len(historical_application(user_id)) > 0:\n",
        "        print(\"Content\")\n",
        "        return content_distance_based_recommender(user_id, top = top)\n",
        "    else:\n",
        "        print(\"Cold Star\")\n",
        "        return recommender_popular_jobs(user_id,  top = top)\n",
        "    \n",
        "    \n"
      ],
      "execution_count": null,
      "outputs": []
    },
    {
      "cell_type": "markdown",
      "metadata": {
        "id": "_gGRel72s4E_"
      },
      "source": [
        "### Testing"
      ]
    },
    {
      "cell_type": "code",
      "metadata": {
        "scrolled": true,
        "id": "jnvfQGNYs4FA",
        "colab": {
          "base_uri": "https://localhost:8080/",
          "height": 348
        },
        "outputId": "0e778b94-5392-49fe-dae0-b4b6717af8ec"
      },
      "source": [
        "users.head(5)"
      ],
      "execution_count": null,
      "outputs": [
        {
          "output_type": "execute_result",
          "data": {
            "text/html": [
              "<div>\n",
              "<style scoped>\n",
              "    .dataframe tbody tr th:only-of-type {\n",
              "        vertical-align: middle;\n",
              "    }\n",
              "\n",
              "    .dataframe tbody tr th {\n",
              "        vertical-align: top;\n",
              "    }\n",
              "\n",
              "    .dataframe thead th {\n",
              "        text-align: right;\n",
              "    }\n",
              "</style>\n",
              "<table border=\"1\" class=\"dataframe\">\n",
              "  <thead>\n",
              "    <tr style=\"text-align: right;\">\n",
              "      <th></th>\n",
              "      <th>UserID</th>\n",
              "      <th>WindowID</th>\n",
              "      <th>Split</th>\n",
              "      <th>City</th>\n",
              "      <th>State</th>\n",
              "      <th>Country</th>\n",
              "      <th>ZipCode</th>\n",
              "      <th>DegreeType</th>\n",
              "      <th>Major</th>\n",
              "      <th>GraduationDate</th>\n",
              "      <th>WorkHistoryCount</th>\n",
              "      <th>TotalYearsExperience</th>\n",
              "      <th>CurrentlyEmployed</th>\n",
              "      <th>ManagedOthers</th>\n",
              "      <th>ManagedHowMany</th>\n",
              "      <th>Community</th>\n",
              "      <th>Coordinates</th>\n",
              "      <th>profile</th>\n",
              "    </tr>\n",
              "  </thead>\n",
              "  <tbody>\n",
              "    <tr>\n",
              "      <th>200098</th>\n",
              "      <td>248008</td>\n",
              "      <td>4</td>\n",
              "      <td>Train</td>\n",
              "      <td>New York</td>\n",
              "      <td>NY</td>\n",
              "      <td>US</td>\n",
              "      <td>10003</td>\n",
              "      <td>None</td>\n",
              "      <td>Electrical Engineering</td>\n",
              "      <td>NaN</td>\n",
              "      <td>2</td>\n",
              "      <td>15.0</td>\n",
              "      <td>Yes</td>\n",
              "      <td>No</td>\n",
              "      <td>0</td>\n",
              "      <td>New York, NY</td>\n",
              "      <td>40.73,-73.99</td>\n",
              "      <td>Electrical Engineering</td>\n",
              "    </tr>\n",
              "    <tr>\n",
              "      <th>286529</th>\n",
              "      <td>1184529</td>\n",
              "      <td>5</td>\n",
              "      <td>Train</td>\n",
              "      <td>New York</td>\n",
              "      <td>NY</td>\n",
              "      <td>US</td>\n",
              "      <td>10035</td>\n",
              "      <td>High School</td>\n",
              "      <td>Not Applicable</td>\n",
              "      <td>2005-01-01 00:00:00</td>\n",
              "      <td>3</td>\n",
              "      <td>7.0</td>\n",
              "      <td>NaN</td>\n",
              "      <td>No</td>\n",
              "      <td>0</td>\n",
              "      <td>New York, NY</td>\n",
              "      <td>40.8,-73.93</td>\n",
              "      <td>High School</td>\n",
              "    </tr>\n",
              "    <tr>\n",
              "      <th>57797</th>\n",
              "      <td>1122774</td>\n",
              "      <td>1</td>\n",
              "      <td>Train</td>\n",
              "      <td>New Hartford</td>\n",
              "      <td>NY</td>\n",
              "      <td>US</td>\n",
              "      <td>13413</td>\n",
              "      <td>None</td>\n",
              "      <td>Business Administration</td>\n",
              "      <td>1987-01-01 00:00:00</td>\n",
              "      <td>2</td>\n",
              "      <td>23.0</td>\n",
              "      <td>Yes</td>\n",
              "      <td>Yes</td>\n",
              "      <td>8</td>\n",
              "      <td>New Hartford, NY</td>\n",
              "      <td>43.06,-75.27</td>\n",
              "      <td>Business Administration</td>\n",
              "    </tr>\n",
              "    <tr>\n",
              "      <th>60141</th>\n",
              "      <td>1165147</td>\n",
              "      <td>1</td>\n",
              "      <td>Train</td>\n",
              "      <td>Staten Island</td>\n",
              "      <td>NY</td>\n",
              "      <td>US</td>\n",
              "      <td>10314</td>\n",
              "      <td>Bachelor's</td>\n",
              "      <td>BA/Criminal Justice</td>\n",
              "      <td>1980-06-01 00:00:00</td>\n",
              "      <td>7</td>\n",
              "      <td>35.0</td>\n",
              "      <td>Yes</td>\n",
              "      <td>Yes</td>\n",
              "      <td>200</td>\n",
              "      <td>Staten Island, NY</td>\n",
              "      <td>40.6,-74.15</td>\n",
              "      <td>BA/Criminal Justice Bachelor's</td>\n",
              "    </tr>\n",
              "    <tr>\n",
              "      <th>371308</th>\n",
              "      <td>875025</td>\n",
              "      <td>7</td>\n",
              "      <td>Train</td>\n",
              "      <td>Brooklyn</td>\n",
              "      <td>NY</td>\n",
              "      <td>US</td>\n",
              "      <td>11219</td>\n",
              "      <td>None</td>\n",
              "      <td>Business Management</td>\n",
              "      <td>2009-01-01 00:00:00</td>\n",
              "      <td>8</td>\n",
              "      <td>6.0</td>\n",
              "      <td>Yes</td>\n",
              "      <td>Yes</td>\n",
              "      <td>8</td>\n",
              "      <td>Brooklyn, NY</td>\n",
              "      <td>40.63,-74.0</td>\n",
              "      <td>Business Management</td>\n",
              "    </tr>\n",
              "  </tbody>\n",
              "</table>\n",
              "</div>"
            ],
            "text/plain": [
              "         UserID  WindowID  ...   Coordinates                          profile\n",
              "200098   248008         4  ...  40.73,-73.99         Electrical Engineering  \n",
              "286529  1184529         5  ...   40.8,-73.93                     High School \n",
              "57797   1122774         1  ...  43.06,-75.27        Business Administration  \n",
              "60141   1165147         1  ...   40.6,-74.15  BA/Criminal Justice Bachelor's \n",
              "371308   875025         7  ...   40.63,-74.0            Business Management  \n",
              "\n",
              "[5 rows x 18 columns]"
            ]
          },
          "metadata": {},
          "execution_count": 46
        }
      ]
    },
    {
      "cell_type": "code",
      "metadata": {
        "id": "9yzeU34Os4FA",
        "colab": {
          "base_uri": "https://localhost:8080/"
        },
        "outputId": "75272676-7a44-494f-bf1b-5195bdcc3ca0"
      },
      "source": [
        "#Cold 153286, 944873\n",
        "#Content 248008, 1184529\n",
        "user_id = 1165147\n",
        "\n",
        "print(\"USER PROFILE: \", user_profile(user_id))\n",
        "print(\"HISTORICAL APPLICATION CONTENT:\\n\", historical_application(user_id))\n",
        "hybrid_recommender(user_id, top = 10) \n"
      ],
      "execution_count": null,
      "outputs": [
        {
          "output_type": "stream",
          "name": "stdout",
          "text": [
            "USER PROFILE:  \n",
            "    Degree Type: Bachelor's\n",
            "    Major: BA/Criminal Justice\n",
            "    \n",
            "HISTORICAL APPLICATION CONTENT:\n",
            " []\n",
            "Cold Star\n"
          ]
        },
        {
          "output_type": "execute_result",
          "data": {
            "text/plain": [
              "{'Administrative Assistant': (434525, 10.88),\n",
              " 'Assistant Manager': (662102, 13.91),\n",
              " 'Customer Service': (919218, 13.52),\n",
              " 'Customer Service Representative': (766984, 10.88),\n",
              " 'General Manager': (544809, 12.47),\n",
              " 'Manager': (639957, 13.88),\n",
              " 'Office Manager': (564226, 9.71),\n",
              " 'Receptionist': (254592, 13.33),\n",
              " 'Sales Associate': (542022, 10.88),\n",
              " 'Store Manager': (784964, 10.84)}"
            ]
          },
          "metadata": {},
          "execution_count": 59
        }
      ]
    },
    {
      "cell_type": "code",
      "metadata": {
        "colab": {
          "base_uri": "https://localhost:8080/",
          "height": 492
        },
        "id": "DjsFQoaNhGBn",
        "outputId": "8bc6f64b-0fed-4c17-d86a-9097f3ed3ebe"
      },
      "source": [
        "user_id = 1165147\n",
        "\n",
        "print(\"USER PROFILE: \", user_profile(user_id))\n",
        "print(\"HISTORICAL APPLICATION CONTENT:\\n\\n\", historical_application(user_id))\n",
        "content_distance_based_recommender(user_id, top = 10)"
      ],
      "execution_count": null,
      "outputs": [
        {
          "output_type": "stream",
          "name": "stdout",
          "text": [
            "USER PROFILE:  \n",
            "    Degree Type: Bachelor's\n",
            "    Major: BA/Criminal Justice\n",
            "    \n",
            "HISTORICAL APPLICATION CONTENT:\n",
            "\n",
            " []\n"
          ]
        },
        {
          "output_type": "execute_result",
          "data": {
            "text/html": [
              "<div>\n",
              "<style scoped>\n",
              "    .dataframe tbody tr th:only-of-type {\n",
              "        vertical-align: middle;\n",
              "    }\n",
              "\n",
              "    .dataframe tbody tr th {\n",
              "        vertical-align: top;\n",
              "    }\n",
              "\n",
              "    .dataframe thead th {\n",
              "        text-align: right;\n",
              "    }\n",
              "</style>\n",
              "<table border=\"1\" class=\"dataframe\">\n",
              "  <thead>\n",
              "    <tr style=\"text-align: right;\">\n",
              "      <th></th>\n",
              "      <th>JobID</th>\n",
              "      <th>Title</th>\n",
              "      <th>Distance</th>\n",
              "      <th>Description</th>\n",
              "      <th>Requirements</th>\n",
              "    </tr>\n",
              "  </thead>\n",
              "  <tbody>\n",
              "    <tr>\n",
              "      <th>0</th>\n",
              "      <td>717147</td>\n",
              "      <td>IT Intern</td>\n",
              "      <td>10.36</td>\n",
              "      <td>job classification contract n njob description...</td>\n",
              "      <td>sharepoint cis computer science intern entry l...</td>\n",
              "    </tr>\n",
              "    <tr>\n",
              "      <th>1</th>\n",
              "      <td>525259</td>\n",
              "      <td>Training Manager (New York, NY)</td>\n",
              "      <td>10.84</td>\n",
              "      <td>guidance medical personnel new york s premier ...</td>\n",
              "      <td>at least five years experience as an instruct...</td>\n",
              "    </tr>\n",
              "    <tr>\n",
              "      <th>2</th>\n",
              "      <td>615925</td>\n",
              "      <td>Vice President for Information Technology</td>\n",
              "      <td>12.07</td>\n",
              "      <td>borough of manhattan community college cuny be...</td>\n",
              "      <td>please see description</td>\n",
              "    </tr>\n",
              "    <tr>\n",
              "      <th>3</th>\n",
              "      <td>778960</td>\n",
              "      <td>Applications Systems Developer - Java (Systems...</td>\n",
              "      <td>13.33</td>\n",
              "      <td>columbia university is one of the premiere edu...</td>\n",
              "      <td>minimum qualifications bachelor s degree or eq...</td>\n",
              "    </tr>\n",
              "    <tr>\n",
              "      <th>4</th>\n",
              "      <td>814993</td>\n",
              "      <td>Senior Systems Programmer / Analyst</td>\n",
              "      <td>13.91</td>\n",
              "      <td>platinum hr management is a new york based pro...</td>\n",
              "      <td>the ideal candidate will possess the following...</td>\n",
              "    </tr>\n",
              "    <tr>\n",
              "      <th>5</th>\n",
              "      <td>301959</td>\n",
              "      <td>PROGRAMMER ANALYSTS II needed in Melville, NY ...</td>\n",
              "      <td>13.33</td>\n",
              "      <td>programmer analysts ii needed in melville ny a...</td>\n",
              "      <td>please refer to the job description to view th...</td>\n",
              "    </tr>\n",
              "    <tr>\n",
              "      <th>6</th>\n",
              "      <td>490991</td>\n",
              "      <td>Environmental Engineer or Scientist - 6 to 10 ...</td>\n",
              "      <td>13.33</td>\n",
              "      <td>employment type full time environmental engin...</td>\n",
              "      <td>6 to 10 years experience planning and impleme...</td>\n",
              "    </tr>\n",
              "    <tr>\n",
              "      <th>7</th>\n",
              "      <td>363381</td>\n",
              "      <td>Database and Development Services Manager</td>\n",
              "      <td>13.33</td>\n",
              "      <td>nestled in a beautiful valley in the western s...</td>\n",
              "      <td></td>\n",
              "    </tr>\n",
              "    <tr>\n",
              "      <th>8</th>\n",
              "      <td>205322</td>\n",
              "      <td>Preventative Supervisors, Managers and Directo...</td>\n",
              "      <td>13.52</td>\n",
              "      <td>multiple positions are now available in preven...</td>\n",
              "      <td>minimum 2 years experience must have masters i...</td>\n",
              "    </tr>\n",
              "    <tr>\n",
              "      <th>9</th>\n",
              "      <td>118903</td>\n",
              "      <td>ELEARNING DESIGNER</td>\n",
              "      <td>10.84</td>\n",
              "      <td>job classification contract n nour client a le...</td>\n",
              "      <td>elearning development adobe captivate end user...</td>\n",
              "    </tr>\n",
              "  </tbody>\n",
              "</table>\n",
              "</div>"
            ],
            "text/plain": [
              "    JobID  ...                                       Requirements\n",
              "0  717147  ...  sharepoint cis computer science intern entry l...\n",
              "1  525259  ...   at least five years experience as an instruct...\n",
              "2  615925  ...                            please see description \n",
              "3  778960  ...  minimum qualifications bachelor s degree or eq...\n",
              "4  814993  ...  the ideal candidate will possess the following...\n",
              "5  301959  ...  please refer to the job description to view th...\n",
              "6  490991  ...   6 to 10 years experience planning and impleme...\n",
              "7  363381  ...                                                   \n",
              "8  205322  ...  minimum 2 years experience must have masters i...\n",
              "9  118903  ...  elearning development adobe captivate end user...\n",
              "\n",
              "[10 rows x 5 columns]"
            ]
          },
          "metadata": {},
          "execution_count": 55
        }
      ]
    },
    {
      "cell_type": "code",
      "metadata": {
        "colab": {
          "base_uri": "https://localhost:8080/"
        },
        "id": "H0jmj4N2gxmf",
        "outputId": "a7894b4e-096e-42a3-8516-cf00a5eabe08"
      },
      "source": [
        "user_id = 1165147\n",
        "\n",
        "print(\"USER PROFILE: \", user_profile(user_id))\n",
        "print(\"HISTORICAL APPLICATION CONTENT:\\n\\n\", historical_application(user_id))\n",
        "recommender_popular_jobs(user_id,  top = 10)"
      ],
      "execution_count": null,
      "outputs": [
        {
          "output_type": "stream",
          "name": "stdout",
          "text": [
            "USER PROFILE:  \n",
            "    Degree Type: Bachelor's\n",
            "    Major: BA/Criminal Justice\n",
            "    \n",
            "HISTORICAL APPLICATION CONTENT:\n",
            "\n",
            " []\n"
          ]
        },
        {
          "output_type": "execute_result",
          "data": {
            "text/plain": [
              "{'Administrative Assistant': (434525, 10.88),\n",
              " 'Assistant Manager': (662102, 13.91),\n",
              " 'Customer Service': (919218, 13.52),\n",
              " 'Customer Service Representative': (766984, 10.88),\n",
              " 'General Manager': (544809, 12.47),\n",
              " 'Manager': (639957, 13.88),\n",
              " 'Office Manager': (564226, 9.71),\n",
              " 'Receptionist': (254592, 13.33),\n",
              " 'Sales Associate': (542022, 10.88),\n",
              " 'Store Manager': (784964, 10.84)}"
            ]
          },
          "metadata": {},
          "execution_count": 56
        }
      ]
    },
    {
      "cell_type": "markdown",
      "metadata": {
        "id": "cvd1cEXus4FC"
      },
      "source": [
        "#### How many user with content?"
      ]
    },
    {
      "cell_type": "code",
      "metadata": {
        "id": "G6JnvoBRs4FC"
      },
      "source": [
        "counter = 0\n",
        "for u in users.UserID.unique():\n",
        "    if len(historical_application(u)) > 0:\n",
        "        counter += 1\n"
      ],
      "execution_count": null,
      "outputs": []
    },
    {
      "cell_type": "code",
      "metadata": {
        "id": "-O9J7mD7s4FD",
        "outputId": "c67ef08a-c356-4071-e989-a758c255e8dd"
      },
      "source": [
        "print(counter)\n",
        "counter/len(users.UserID.unique())"
      ],
      "execution_count": null,
      "outputs": [
        {
          "name": "stdout",
          "output_type": "stream",
          "text": [
            "1204\n"
          ]
        },
        {
          "data": {
            "text/plain": [
              "0.2923749392909179"
            ]
          },
          "execution_count": 515,
          "metadata": {},
          "output_type": "execute_result"
        }
      ]
    }
  ]
}